{
 "cells": [
  {
   "cell_type": "code",
   "execution_count": 1,
   "id": "f097ec5f-9d85-497e-87e8-cd4b280befc3",
   "metadata": {},
   "outputs": [],
   "source": [
    "# Importing libraries\n",
    "import numpy as np\n",
    "import pandas as pd\n",
    "import matplotlib.pyplot as plt\n",
    "import seaborn as sns\n",
    "import warnings\n",
    "warnings.filterwarnings('ignore')"
   ]
  },
  {
   "cell_type": "code",
   "execution_count": 2,
   "id": "10ca90d4-beaf-455b-b6fe-ae5f34e657e1",
   "metadata": {},
   "outputs": [
    {
     "data": {
      "text/html": [
       "<div>\n",
       "<style scoped>\n",
       "    .dataframe tbody tr th:only-of-type {\n",
       "        vertical-align: middle;\n",
       "    }\n",
       "\n",
       "    .dataframe tbody tr th {\n",
       "        vertical-align: top;\n",
       "    }\n",
       "\n",
       "    .dataframe thead th {\n",
       "        text-align: right;\n",
       "    }\n",
       "</style>\n",
       "<table border=\"1\" class=\"dataframe\">\n",
       "  <thead>\n",
       "    <tr style=\"text-align: right;\">\n",
       "      <th></th>\n",
       "      <th>State</th>\n",
       "      <th>Two Wheelers (Category L1 &amp; L2 as per Central Motor Vehicles Rules</th>\n",
       "      <th>Two Wheelers (Category L2 (CMVR))</th>\n",
       "      <th>Two Wheelers (Max power not exceeding 250 Watts)</th>\n",
       "      <th>Three Wheelers (Category L5 slow speed as per CMVR)</th>\n",
       "      <th>Three Wheelers (Category L5 as per CMVR)</th>\n",
       "      <th>Passenger Cars (Category M1 as per CMVR)</th>\n",
       "      <th>Buses</th>\n",
       "      <th>Total in state</th>\n",
       "    </tr>\n",
       "    <tr>\n",
       "      <th>Sl. No</th>\n",
       "      <th></th>\n",
       "      <th></th>\n",
       "      <th></th>\n",
       "      <th></th>\n",
       "      <th></th>\n",
       "      <th></th>\n",
       "      <th></th>\n",
       "      <th></th>\n",
       "      <th></th>\n",
       "    </tr>\n",
       "  </thead>\n",
       "  <tbody>\n",
       "    <tr>\n",
       "      <th>1</th>\n",
       "      <td>Andhra Pradesh</td>\n",
       "      <td>431</td>\n",
       "      <td>692</td>\n",
       "      <td>4689</td>\n",
       "      <td>0</td>\n",
       "      <td>0</td>\n",
       "      <td>3680</td>\n",
       "      <td>0</td>\n",
       "      <td>9492</td>\n",
       "    </tr>\n",
       "    <tr>\n",
       "      <th>2</th>\n",
       "      <td>Assam</td>\n",
       "      <td>463</td>\n",
       "      <td>138</td>\n",
       "      <td>1006</td>\n",
       "      <td>0</td>\n",
       "      <td>117</td>\n",
       "      <td>151</td>\n",
       "      <td>0</td>\n",
       "      <td>1875</td>\n",
       "    </tr>\n",
       "    <tr>\n",
       "      <th>3</th>\n",
       "      <td>Bihar</td>\n",
       "      <td>252</td>\n",
       "      <td>430</td>\n",
       "      <td>2148</td>\n",
       "      <td>6</td>\n",
       "      <td>64</td>\n",
       "      <td>271</td>\n",
       "      <td>0</td>\n",
       "      <td>3171</td>\n",
       "    </tr>\n",
       "    <tr>\n",
       "      <th>4</th>\n",
       "      <td>Chhattisgarh</td>\n",
       "      <td>613</td>\n",
       "      <td>382</td>\n",
       "      <td>2078</td>\n",
       "      <td>58</td>\n",
       "      <td>106</td>\n",
       "      <td>997</td>\n",
       "      <td>0</td>\n",
       "      <td>4234</td>\n",
       "    </tr>\n",
       "    <tr>\n",
       "      <th>5</th>\n",
       "      <td>Delhi</td>\n",
       "      <td>1395</td>\n",
       "      <td>251</td>\n",
       "      <td>5018</td>\n",
       "      <td>0</td>\n",
       "      <td>1</td>\n",
       "      <td>12695</td>\n",
       "      <td>21</td>\n",
       "      <td>19381</td>\n",
       "    </tr>\n",
       "  </tbody>\n",
       "</table>\n",
       "</div>"
      ],
      "text/plain": [
       "                 State  \\\n",
       "Sl. No                   \n",
       "1       Andhra Pradesh   \n",
       "2                Assam   \n",
       "3                Bihar   \n",
       "4         Chhattisgarh   \n",
       "5                Delhi   \n",
       "\n",
       "        Two Wheelers (Category L1 & L2 as per Central Motor Vehicles Rules  \\\n",
       "Sl. No                                                                       \n",
       "1                                                     431                    \n",
       "2                                                     463                    \n",
       "3                                                     252                    \n",
       "4                                                     613                    \n",
       "5                                                    1395                    \n",
       "\n",
       "        Two Wheelers (Category L2 (CMVR))  \\\n",
       "Sl. No                                      \n",
       "1                                     692   \n",
       "2                                     138   \n",
       "3                                     430   \n",
       "4                                     382   \n",
       "5                                     251   \n",
       "\n",
       "        Two Wheelers (Max power not exceeding 250 Watts)  \\\n",
       "Sl. No                                                     \n",
       "1                                                   4689   \n",
       "2                                                   1006   \n",
       "3                                                   2148   \n",
       "4                                                   2078   \n",
       "5                                                   5018   \n",
       "\n",
       "        Three Wheelers (Category L5 slow speed as per CMVR)  \\\n",
       "Sl. No                                                        \n",
       "1                                                       0     \n",
       "2                                                       0     \n",
       "3                                                       6     \n",
       "4                                                      58     \n",
       "5                                                       0     \n",
       "\n",
       "        Three Wheelers (Category L5 as per CMVR)  \\\n",
       "Sl. No                                             \n",
       "1                                              0   \n",
       "2                                            117   \n",
       "3                                             64   \n",
       "4                                            106   \n",
       "5                                              1   \n",
       "\n",
       "        Passenger Cars (Category M1 as per CMVR)  Buses  Total in state  \n",
       "Sl. No                                                                   \n",
       "1                                           3680      0            9492  \n",
       "2                                            151      0            1875  \n",
       "3                                            271      0            3171  \n",
       "4                                            997      0            4234  \n",
       "5                                          12695     21           19381  "
      ]
     },
     "execution_count": 2,
     "metadata": {},
     "output_type": "execute_result"
    }
   ],
   "source": [
    "# importing dataset EV-Stats-1\n",
    "df_sales = pd.read_csv('EV Stats-1.csv',index_col=0)\n",
    "df_sales.head()"
   ]
  },
  {
   "cell_type": "markdown",
   "id": "3c85c97c-0399-441f-91c3-ea513efde7d9",
   "metadata": {},
   "source": [
    "# EDA"
   ]
  },
  {
   "cell_type": "code",
   "execution_count": 3,
   "id": "82f6a0ab-b186-4917-8a59-5af8fe65b67a",
   "metadata": {},
   "outputs": [
    {
     "data": {
      "text/plain": [
       "State                                                                 0\n",
       "Two Wheelers (Category L1 & L2 as per Central Motor Vehicles Rules    0\n",
       "Two Wheelers (Category L2 (CMVR))                                     0\n",
       "Two Wheelers (Max power not exceeding 250 Watts)                      0\n",
       "Three Wheelers (Category L5 slow speed as per CMVR)                   0\n",
       "Three Wheelers (Category L5 as per CMVR)                              0\n",
       "Passenger Cars (Category M1 as per CMVR)                              0\n",
       "Buses                                                                 0\n",
       "Total in state                                                        0\n",
       "dtype: int64"
      ]
     },
     "execution_count": 3,
     "metadata": {},
     "output_type": "execute_result"
    }
   ],
   "source": [
    "df_sales.isna().sum()"
   ]
  },
  {
   "cell_type": "code",
   "execution_count": 4,
   "id": "b0553f7c-09e3-4fa1-9a0a-3a6caf04014c",
   "metadata": {},
   "outputs": [
    {
     "data": {
      "text/plain": [
       "(30, 9)"
      ]
     },
     "execution_count": 4,
     "metadata": {},
     "output_type": "execute_result"
    }
   ],
   "source": [
    "df_sales.shape"
   ]
  },
  {
   "cell_type": "code",
   "execution_count": 5,
   "id": "eea2975c-09a4-4a5c-bced-59a347f69550",
   "metadata": {},
   "outputs": [
    {
     "name": "stdout",
     "output_type": "stream",
     "text": [
      "<class 'pandas.core.frame.DataFrame'>\n",
      "Int64Index: 30 entries, 1 to 30\n",
      "Data columns (total 9 columns):\n",
      " #   Column                                                              Non-Null Count  Dtype \n",
      "---  ------                                                              --------------  ----- \n",
      " 0   State                                                               30 non-null     object\n",
      " 1   Two Wheelers (Category L1 & L2 as per Central Motor Vehicles Rules  30 non-null     int64 \n",
      " 2   Two Wheelers (Category L2 (CMVR))                                   30 non-null     int64 \n",
      " 3   Two Wheelers (Max power not exceeding 250 Watts)                    30 non-null     int64 \n",
      " 4   Three Wheelers (Category L5 slow speed as per CMVR)                 30 non-null     int64 \n",
      " 5   Three Wheelers (Category L5 as per CMVR)                            30 non-null     int64 \n",
      " 6   Passenger Cars (Category M1 as per CMVR)                            30 non-null     int64 \n",
      " 7   Buses                                                               30 non-null     int64 \n",
      " 8   Total in state                                                      30 non-null     int64 \n",
      "dtypes: int64(8), object(1)\n",
      "memory usage: 2.3+ KB\n"
     ]
    }
   ],
   "source": [
    "df_sales.info()"
   ]
  },
  {
   "cell_type": "code",
   "execution_count": 6,
   "id": "d59680c0-f6d1-4c0c-a9d5-82324ccdd36b",
   "metadata": {},
   "outputs": [
    {
     "data": {
      "text/plain": [
       "27549"
      ]
     },
     "execution_count": 6,
     "metadata": {},
     "output_type": "execute_result"
    }
   ],
   "source": [
    "tw1 = df_sales['Two Wheelers (Category L1 & L2 as per Central Motor Vehicles Rules'].sum()\n",
    "tw1"
   ]
  },
  {
   "cell_type": "code",
   "execution_count": 7,
   "id": "67b28858-a1c5-43ef-9571-761f088e73af",
   "metadata": {},
   "outputs": [
    {
     "data": {
      "text/plain": [
       "14069"
      ]
     },
     "execution_count": 7,
     "metadata": {},
     "output_type": "execute_result"
    }
   ],
   "source": [
    "tw2 = df_sales['Two Wheelers (Category L2 (CMVR))'].sum()\n",
    "tw2"
   ]
  },
  {
   "cell_type": "code",
   "execution_count": 8,
   "id": "7c9c0353-cc7e-405b-8c8c-4f0326cbbeb2",
   "metadata": {},
   "outputs": [
    {
     "data": {
      "text/plain": [
       "112538"
      ]
     },
     "execution_count": 8,
     "metadata": {},
     "output_type": "execute_result"
    }
   ],
   "source": [
    "tw3 = df_sales['Two Wheelers (Max power not exceeding 250 Watts)'].sum()\n",
    "tw3"
   ]
  },
  {
   "cell_type": "code",
   "execution_count": 9,
   "id": "68a73055-065c-43ce-80ef-d94771ea2d40",
   "metadata": {},
   "outputs": [
    {
     "data": {
      "text/plain": [
       "389"
      ]
     },
     "execution_count": 9,
     "metadata": {},
     "output_type": "execute_result"
    }
   ],
   "source": [
    "three_wheel1 = df_sales['Three Wheelers (Category L5 slow speed as per CMVR)'].sum()\n",
    "three_wheel1"
   ]
  },
  {
   "cell_type": "code",
   "execution_count": 10,
   "id": "94b93233-cbdc-4142-8de2-fae6d72f0068",
   "metadata": {},
   "outputs": [
    {
     "data": {
      "text/plain": [
       "720"
      ]
     },
     "execution_count": 10,
     "metadata": {},
     "output_type": "execute_result"
    }
   ],
   "source": [
    "three_wheel2 = df_sales['Three Wheelers (Category L5 as per CMVR)'].sum()\n",
    "three_wheel2"
   ]
  },
  {
   "cell_type": "code",
   "execution_count": 11,
   "id": "f7dd2fb6-d544-42d9-9efe-19a35843b6ae",
   "metadata": {},
   "outputs": [
    {
     "data": {
      "text/plain": [
       "105571"
      ]
     },
     "execution_count": 11,
     "metadata": {},
     "output_type": "execute_result"
    }
   ],
   "source": [
    "car = df_sales['Passenger Cars (Category M1 as per CMVR)'].sum()\n",
    "car"
   ]
  },
  {
   "cell_type": "code",
   "execution_count": 12,
   "id": "69676445-3862-417d-b868-383d40736fc5",
   "metadata": {},
   "outputs": [
    {
     "data": {
      "text/plain": [
       "27"
      ]
     },
     "execution_count": 12,
     "metadata": {},
     "output_type": "execute_result"
    }
   ],
   "source": [
    "bus = df_sales['Buses'].sum()\n",
    "bus"
   ]
  },
  {
   "cell_type": "code",
   "execution_count": 13,
   "id": "e388af34-144c-4863-be76-92840e47a706",
   "metadata": {},
   "outputs": [
    {
     "data": {
      "text/plain": [
       "[27549, 14069, 112538]"
      ]
     },
     "execution_count": 13,
     "metadata": {},
     "output_type": "execute_result"
    }
   ],
   "source": [
    "df_tw = [tw1,tw2,tw3]\n",
    "df_tw"
   ]
  },
  {
   "cell_type": "code",
   "execution_count": 14,
   "id": "06d0f6e5-6f76-4c0c-9c72-f025e3b2ee14",
   "metadata": {},
   "outputs": [
    {
     "data": {
      "text/plain": [
       "260863"
      ]
     },
     "execution_count": 14,
     "metadata": {},
     "output_type": "execute_result"
    }
   ],
   "source": [
    "count = df_sales['Total in state'].sum()\n",
    "count"
   ]
  },
  {
   "cell_type": "code",
   "execution_count": 15,
   "id": "323de6d8-a992-48c1-93c9-24c2d22b75f0",
   "metadata": {},
   "outputs": [],
   "source": [
    "df_sales.set_index(\"State\", inplace=True)"
   ]
  },
  {
   "cell_type": "code",
   "execution_count": 16,
   "id": "a8dcee10-69bf-4233-b29d-b93994d1f329",
   "metadata": {},
   "outputs": [
    {
     "data": {
      "image/png": "[encoded data removed]",
      "text/plain": [
       "<Figure size 1800x576 with 1 Axes>"
      ]
     },
     "metadata": {
      "needs_background": "light"
     },
     "output_type": "display_data"
    }
   ],
   "source": [
    "df_sales.plot(kind='bar', figsize=(25,8), width=3, fontsize=10)\n",
    "plt.xlabel('State',fontsize=15)\n",
    "plt.title('Statewise Sales of Vehicle \\n', fontsize=25)\n",
    "plt.show()"
   ]
  },
  {
   "cell_type": "code",
   "execution_count": 17,
   "id": "4a112d82-8e37-4e1c-8ab5-ed33c190cb38",
   "metadata": {},
   "outputs": [
    {
     "data": {
      "text/html": [
       "<div>\n",
       "<style scoped>\n",
       "    .dataframe tbody tr th:only-of-type {\n",
       "        vertical-align: middle;\n",
       "    }\n",
       "\n",
       "    .dataframe tbody tr th {\n",
       "        vertical-align: top;\n",
       "    }\n",
       "\n",
       "    .dataframe thead th {\n",
       "        text-align: right;\n",
       "    }\n",
       "</style>\n",
       "<table border=\"1\" class=\"dataframe\">\n",
       "  <thead>\n",
       "    <tr style=\"text-align: right;\">\n",
       "      <th></th>\n",
       "      <th>Brand</th>\n",
       "      <th>Model</th>\n",
       "      <th>Accel</th>\n",
       "      <th>TopSpeed</th>\n",
       "      <th>Range</th>\n",
       "      <th>Efficiency</th>\n",
       "      <th>FastCharge</th>\n",
       "      <th>RapidCharge</th>\n",
       "      <th>PowerTrain</th>\n",
       "      <th>PlugType</th>\n",
       "      <th>BodyStyle</th>\n",
       "      <th>Segment</th>\n",
       "      <th>Seats</th>\n",
       "      <th>PriceEuro</th>\n",
       "    </tr>\n",
       "  </thead>\n",
       "  <tbody>\n",
       "    <tr>\n",
       "      <th>0</th>\n",
       "      <td>Tesla</td>\n",
       "      <td>Model 3 Long Range Dual Motor</td>\n",
       "      <td>4.6 sec</td>\n",
       "      <td>233 km/h</td>\n",
       "      <td>450 km</td>\n",
       "      <td>161 Wh/km</td>\n",
       "      <td>940 km/h</td>\n",
       "      <td>Rapid charging possible</td>\n",
       "      <td>All Wheel Drive</td>\n",
       "      <td>Type 2 CCS</td>\n",
       "      <td>Sedan</td>\n",
       "      <td>D</td>\n",
       "      <td>5</td>\n",
       "      <td>55480</td>\n",
       "    </tr>\n",
       "    <tr>\n",
       "      <th>1</th>\n",
       "      <td>Volkswagen</td>\n",
       "      <td>ID.3 Pure</td>\n",
       "      <td>10.0 sec</td>\n",
       "      <td>160 km/h</td>\n",
       "      <td>270 km</td>\n",
       "      <td>167 Wh/km</td>\n",
       "      <td>250 km/h</td>\n",
       "      <td>Rapid charging possible</td>\n",
       "      <td>Rear Wheel Drive</td>\n",
       "      <td>Type 2 CCS</td>\n",
       "      <td>Hatchback</td>\n",
       "      <td>C</td>\n",
       "      <td>5</td>\n",
       "      <td>30000</td>\n",
       "    </tr>\n",
       "    <tr>\n",
       "      <th>2</th>\n",
       "      <td>Polestar</td>\n",
       "      <td>2</td>\n",
       "      <td>4.7 sec</td>\n",
       "      <td>210 km/h</td>\n",
       "      <td>400 km</td>\n",
       "      <td>181 Wh/km</td>\n",
       "      <td>620 km/h</td>\n",
       "      <td>Rapid charging possible</td>\n",
       "      <td>All Wheel Drive</td>\n",
       "      <td>Type 2 CCS</td>\n",
       "      <td>Liftback</td>\n",
       "      <td>D</td>\n",
       "      <td>5</td>\n",
       "      <td>56440</td>\n",
       "    </tr>\n",
       "    <tr>\n",
       "      <th>3</th>\n",
       "      <td>BMW</td>\n",
       "      <td>iX3</td>\n",
       "      <td>6.8 sec</td>\n",
       "      <td>180 km/h</td>\n",
       "      <td>360 km</td>\n",
       "      <td>206 Wh/km</td>\n",
       "      <td>560 km/h</td>\n",
       "      <td>Rapid charging possible</td>\n",
       "      <td>Rear Wheel Drive</td>\n",
       "      <td>Type 2 CCS</td>\n",
       "      <td>SUV</td>\n",
       "      <td>D</td>\n",
       "      <td>5</td>\n",
       "      <td>68040</td>\n",
       "    </tr>\n",
       "    <tr>\n",
       "      <th>4</th>\n",
       "      <td>Honda</td>\n",
       "      <td>e</td>\n",
       "      <td>9.5 sec</td>\n",
       "      <td>145 km/h</td>\n",
       "      <td>170 km</td>\n",
       "      <td>168 Wh/km</td>\n",
       "      <td>190 km/h</td>\n",
       "      <td>Rapid charging possible</td>\n",
       "      <td>Rear Wheel Drive</td>\n",
       "      <td>Type 2 CCS</td>\n",
       "      <td>Hatchback</td>\n",
       "      <td>B</td>\n",
       "      <td>4</td>\n",
       "      <td>32997</td>\n",
       "    </tr>\n",
       "  </tbody>\n",
       "</table>\n",
       "</div>"
      ],
      "text/plain": [
       "         Brand                          Model     Accel  TopSpeed   Range  \\\n",
       "0       Tesla   Model 3 Long Range Dual Motor   4.6 sec  233 km/h  450 km   \n",
       "1  Volkswagen                       ID.3 Pure  10.0 sec  160 km/h  270 km   \n",
       "2    Polestar                               2   4.7 sec  210 km/h  400 km   \n",
       "3         BMW                            iX3    6.8 sec  180 km/h  360 km   \n",
       "4       Honda                              e    9.5 sec  145 km/h  170 km   \n",
       "\n",
       "  Efficiency FastCharge              RapidCharge        PowerTrain  \\\n",
       "0  161 Wh/km   940 km/h  Rapid charging possible   All Wheel Drive   \n",
       "1  167 Wh/km   250 km/h  Rapid charging possible  Rear Wheel Drive   \n",
       "2  181 Wh/km   620 km/h  Rapid charging possible   All Wheel Drive   \n",
       "3  206 Wh/km   560 km/h  Rapid charging possible  Rear Wheel Drive   \n",
       "4  168 Wh/km   190 km/h  Rapid charging possible  Rear Wheel Drive   \n",
       "\n",
       "     PlugType  BodyStyle Segment  Seats  PriceEuro  \n",
       "0  Type 2 CCS      Sedan       D      5      55480  \n",
       "1  Type 2 CCS  Hatchback       C      5      30000  \n",
       "2  Type 2 CCS   Liftback       D      5      56440  \n",
       "3  Type 2 CCS        SUV       D      5      68040  \n",
       "4  Type 2 CCS  Hatchback       B      4      32997  "
      ]
     },
     "execution_count": 17,
     "metadata": {},
     "output_type": "execute_result"
    }
   ],
   "source": [
    "df_brand = pd.read_csv('ElectricCarData_Norm.csv')\n",
    "df_brand.head()"
   ]
  },
  {
   "cell_type": "code",
   "execution_count": 18,
   "id": "64526a3b-0881-407e-a99b-1d5140d3c0c8",
   "metadata": {},
   "outputs": [
    {
     "data": {
      "text/plain": [
       "(103, 14)"
      ]
     },
     "execution_count": 18,
     "metadata": {},
     "output_type": "execute_result"
    }
   ],
   "source": [
    "df_brand.shape"
   ]
  },
  {
   "cell_type": "code",
   "execution_count": 19,
   "id": "07de6737-704e-4ade-be45-be8c4dbc7aba",
   "metadata": {},
   "outputs": [
    {
     "data": {
      "text/plain": [
       "Brand          0\n",
       "Model          0\n",
       "Accel          0\n",
       "TopSpeed       0\n",
       "Range          0\n",
       "Efficiency     0\n",
       "FastCharge     0\n",
       "RapidCharge    0\n",
       "PowerTrain     0\n",
       "PlugType       0\n",
       "BodyStyle      0\n",
       "Segment        0\n",
       "Seats          0\n",
       "PriceEuro      0\n",
       "dtype: int64"
      ]
     },
     "execution_count": 19,
     "metadata": {},
     "output_type": "execute_result"
    }
   ],
   "source": [
    "df_brand.isna().sum()"
   ]
  },
  {
   "cell_type": "code",
   "execution_count": 20,
   "id": "18550885-a501-4375-b6f9-cf95f5a0c76d",
   "metadata": {},
   "outputs": [
    {
     "data": {
      "text/plain": [
       "Tesla          13\n",
       "Audi            9\n",
       "Nissan          8\n",
       "Volkswagen      8\n",
       "Skoda           6\n",
       "Kia             5\n",
       "Porsche         5\n",
       "Renault         5\n",
       "Ford            4\n",
       "BMW             4\n",
       "Mercedes        3\n",
       "Opel            3\n",
       "Hyundai         3\n",
       "Smart           3\n",
       "Byton           3\n",
       "Peugeot         2\n",
       "Fiat            2\n",
       "Honda           2\n",
       "Citroen         1\n",
       "Mazda           1\n",
       "DS              1\n",
       "Lexus           1\n",
       "CUPRA           1\n",
       "Sono            1\n",
       "Lucid           1\n",
       "Jaguar          1\n",
       "Mini            1\n",
       "Aiways          1\n",
       "Lightyear       1\n",
       "Volvo           1\n",
       "SEAT            1\n",
       "MG              1\n",
       "Polestar        1\n",
       "Name: Brand, dtype: int64"
      ]
     },
     "execution_count": 20,
     "metadata": {},
     "output_type": "execute_result"
    }
   ],
   "source": [
    "b= df_brand['Brand'].value_counts(ascending=False)\n",
    "b"
   ]
  },
  {
   "cell_type": "code",
   "execution_count": 21,
   "id": "f1d8fa5c-4c18-44bf-8341-02e3377aa9b4",
   "metadata": {},
   "outputs": [],
   "source": [
    "# Plotting count of car brands"
   ]
  },
  {
   "cell_type": "code",
   "execution_count": 22,
   "id": "8d01d704-f955-403d-bcd4-29170fd5812b",
   "metadata": {},
   "outputs": [
    {
     "data": {
      "image/png": "[encoded data removed]",
      "text/plain": [
       "<Figure size 1080x432 with 1 Axes>"
      ]
     },
     "metadata": {
      "needs_background": "light"
     },
     "output_type": "display_data"
    }
   ],
   "source": [
    "plt.rcParams['figure.figsize'] = (15,6)\n",
    "ax = sns.countplot(x='Brand', data=df_brand, order=df_brand['Brand'].value_counts().index)\n",
    "\n",
    "for p in ax.patches:\n",
    "   ax.annotate('{:.0f}'.format(p.get_height()), (p.get_x()+0.25, p.get_height()+0.01))\n",
    "\n",
    "plt.xticks(rotation=90)\n",
    "plt.show()"
   ]
  },
  {
   "cell_type": "code",
   "execution_count": 23,
   "id": "56403e22-8e29-4c27-a307-467536fcafa4",
   "metadata": {},
   "outputs": [
    {
     "data": {
      "text/plain": [
       "'410 km/h'"
      ]
     },
     "execution_count": 23,
     "metadata": {},
     "output_type": "execute_result"
    }
   ],
   "source": [
    "# finding car with top speed\n",
    "top_speed = df_brand['TopSpeed'].max()\n",
    "top_speed"
   ]
  },
  {
   "cell_type": "code",
   "execution_count": 24,
   "id": "189f618e-138b-4894-855f-8cdefc5ff8fd",
   "metadata": {},
   "outputs": [
    {
     "data": {
      "text/plain": [
       "51    Tesla \n",
       "Name: Brand, dtype: object"
      ]
     },
     "execution_count": 24,
     "metadata": {},
     "output_type": "execute_result"
    }
   ],
   "source": [
    "df_brand['Brand'].loc[df_brand['TopSpeed']==top_speed]"
   ]
  },
  {
   "cell_type": "code",
   "execution_count": 25,
   "id": "1ed4823c-9032-4eae-b926-2adde3ddb3af",
   "metadata": {},
   "outputs": [
    {
     "data": {
      "text/plain": [
       "C    30\n",
       "B    22\n",
       "D    15\n",
       "F    12\n",
       "E    10\n",
       "A     7\n",
       "N     6\n",
       "S     1\n",
       "Name: Segment, dtype: int64"
      ]
     },
     "execution_count": 25,
     "metadata": {},
     "output_type": "execute_result"
    }
   ],
   "source": [
    "# Plotting No. of Car Segments\n",
    "df_brand['Segment'].value_counts(ascending=False)"
   ]
  },
  {
   "cell_type": "code",
   "execution_count": 26,
   "id": "68b03dbd-6cda-4174-bfad-d7cc3b65234a",
   "metadata": {},
   "outputs": [
    {
     "data": {
      "image/png": "[encoded data removed]",
      "text/plain": [
       "<Figure size 360x360 with 1 Axes>"
      ]
     },
     "metadata": {
      "needs_background": "light"
     },
     "output_type": "display_data"
    }
   ],
   "source": [
    "plt.rcParams['figure.figsize'] = (5,5)\n",
    "ax = sns.countplot(x='Segment', data=df_brand, order=df_brand['Segment'].value_counts().index[::-1])\n",
    "\n",
    "for p in ax.patches:\n",
    "   ax.annotate('{:.0f}'.format(p.get_height()), (p.get_x()+0.25, p.get_height()+0.01))\n",
    "\n",
    "plt.show()"
   ]
  },
  {
   "cell_type": "code",
   "execution_count": 27,
   "id": "3fe34d6f-3a3f-4c22-b6c8-c5f31d4175de",
   "metadata": {},
   "outputs": [
    {
     "data": {
      "text/html": [
       "<div>\n",
       "<style scoped>\n",
       "    .dataframe tbody tr th:only-of-type {\n",
       "        vertical-align: middle;\n",
       "    }\n",
       "\n",
       "    .dataframe tbody tr th {\n",
       "        vertical-align: top;\n",
       "    }\n",
       "\n",
       "    .dataframe thead th {\n",
       "        text-align: right;\n",
       "    }\n",
       "</style>\n",
       "<table border=\"1\" class=\"dataframe\">\n",
       "  <thead>\n",
       "    <tr style=\"text-align: right;\">\n",
       "      <th></th>\n",
       "      <th>no</th>\n",
       "      <th>region</th>\n",
       "      <th>address</th>\n",
       "      <th>aux addres</th>\n",
       "      <th>latitude</th>\n",
       "      <th>longitude</th>\n",
       "      <th>type</th>\n",
       "      <th>power</th>\n",
       "      <th>service</th>\n",
       "    </tr>\n",
       "  </thead>\n",
       "  <tbody>\n",
       "    <tr>\n",
       "      <th>0</th>\n",
       "      <td>1</td>\n",
       "      <td>NDMC</td>\n",
       "      <td>Prithviraj Market, Rabindra Nagar, New Delhi- ...</td>\n",
       "      <td>Electric Vehicle Charger, Prithviraj Market, R...</td>\n",
       "      <td>28.600725</td>\n",
       "      <td>77.226252</td>\n",
       "      <td>DC-001</td>\n",
       "      <td>15 kW</td>\n",
       "      <td>Self Service</td>\n",
       "    </tr>\n",
       "    <tr>\n",
       "      <th>1</th>\n",
       "      <td>2</td>\n",
       "      <td>NDMC</td>\n",
       "      <td>Prithviraj Market, Rabindra Nagar, New Delhi- ...</td>\n",
       "      <td>Electric Vehicle Charger, Prithviraj Market, R...</td>\n",
       "      <td>28.600725</td>\n",
       "      <td>77.226252</td>\n",
       "      <td>DC-001</td>\n",
       "      <td>15 kW</td>\n",
       "      <td>Self Service</td>\n",
       "    </tr>\n",
       "    <tr>\n",
       "      <th>2</th>\n",
       "      <td>3</td>\n",
       "      <td>NDMC</td>\n",
       "      <td>Outside RWA Park, Jor Bagh Market, Jor Bagh Co...</td>\n",
       "      <td>Electric Vehicle Charger, Outside RWA Park, Jo...</td>\n",
       "      <td>28.588303</td>\n",
       "      <td>77.217697</td>\n",
       "      <td>DC-001</td>\n",
       "      <td>15 kW</td>\n",
       "      <td>Self Service</td>\n",
       "    </tr>\n",
       "    <tr>\n",
       "      <th>3</th>\n",
       "      <td>4</td>\n",
       "      <td>NDMC</td>\n",
       "      <td>Opposite Dory Pharmacy, Khanna Market, Aliganj...</td>\n",
       "      <td>Electric Vehicle Charger, Opposite Dory Pharma...</td>\n",
       "      <td>28.582654</td>\n",
       "      <td>77.220087</td>\n",
       "      <td>DC-001</td>\n",
       "      <td>15 kW</td>\n",
       "      <td>Self Service</td>\n",
       "    </tr>\n",
       "    <tr>\n",
       "      <th>4</th>\n",
       "      <td>5</td>\n",
       "      <td>NDMC</td>\n",
       "      <td>Opposite Goel Opticals, Khanna Market, Aliganj...</td>\n",
       "      <td>Electric Vehicle Charger, Opposite Goel Optica...</td>\n",
       "      <td>28.584485</td>\n",
       "      <td>77.220316</td>\n",
       "      <td>DC-001</td>\n",
       "      <td>15 kW</td>\n",
       "      <td>Self Service</td>\n",
       "    </tr>\n",
       "  </tbody>\n",
       "</table>\n",
       "</div>"
      ],
      "text/plain": [
       "   no region                                            address  \\\n",
       "0   1   NDMC  Prithviraj Market, Rabindra Nagar, New Delhi- ...   \n",
       "1   2   NDMC  Prithviraj Market, Rabindra Nagar, New Delhi- ...   \n",
       "2   3   NDMC  Outside RWA Park, Jor Bagh Market, Jor Bagh Co...   \n",
       "3   4   NDMC  Opposite Dory Pharmacy, Khanna Market, Aliganj...   \n",
       "4   5   NDMC  Opposite Goel Opticals, Khanna Market, Aliganj...   \n",
       "\n",
       "                                          aux addres   latitude  longitude  \\\n",
       "0  Electric Vehicle Charger, Prithviraj Market, R...  28.600725  77.226252   \n",
       "1  Electric Vehicle Charger, Prithviraj Market, R...  28.600725  77.226252   \n",
       "2  Electric Vehicle Charger, Outside RWA Park, Jo...  28.588303  77.217697   \n",
       "3  Electric Vehicle Charger, Opposite Dory Pharma...  28.582654  77.220087   \n",
       "4  Electric Vehicle Charger, Opposite Goel Optica...  28.584485  77.220316   \n",
       "\n",
       "     type  power       service  \n",
       "0  DC-001  15 kW  Self Service  \n",
       "1  DC-001  15 kW  Self Service  \n",
       "2  DC-001  15 kW  Self Service  \n",
       "3  DC-001  15 kW  Self Service  \n",
       "4  DC-001  15 kW  Self Service  "
      ]
     },
     "execution_count": 27,
     "metadata": {},
     "output_type": "execute_result"
    }
   ],
   "source": [
    "# importing daset- EV charging station \n",
    "df_ch_stations = pd.read_csv('electric_vehicle_charging_station_list.csv')\n",
    "df_ch_stations.head()"
   ]
  },
  {
   "cell_type": "code",
   "execution_count": 28,
   "id": "2547ceea-fc96-450c-b7b4-ee20594ceea5",
   "metadata": {},
   "outputs": [
    {
     "data": {
      "text/plain": [
       "(202, 9)"
      ]
     },
     "execution_count": 28,
     "metadata": {},
     "output_type": "execute_result"
    }
   ],
   "source": [
    "df_ch_stations.shape"
   ]
  },
  {
   "cell_type": "code",
   "execution_count": 29,
   "id": "2610b508-9df9-4bb6-9ac6-0ea13e1945e2",
   "metadata": {},
   "outputs": [
    {
     "data": {
      "text/plain": [
       "no            0\n",
       "region        0\n",
       "address       0\n",
       "aux addres    0\n",
       "latitude      0\n",
       "longitude     0\n",
       "type          0\n",
       "power         0\n",
       "service       0\n",
       "dtype: int64"
      ]
     },
     "execution_count": 29,
     "metadata": {},
     "output_type": "execute_result"
    }
   ],
   "source": [
    "df_ch_stations.isna().sum()"
   ]
  },
  {
   "cell_type": "code",
   "execution_count": 30,
   "id": "7d9d0af9-c3a4-4a4f-a90b-b8307fc59c6f",
   "metadata": {},
   "outputs": [
    {
     "data": {
      "text/plain": [
       "NDMC               74\n",
       "Noida Authority    53\n",
       "SDMC               31\n",
       "NKDA               16\n",
       "CMRL               16\n",
       "ANERT               6\n",
       "NRANVP              4\n",
       "Maha Metro          2\n",
       "Name: region, dtype: int64"
      ]
     },
     "execution_count": 30,
     "metadata": {},
     "output_type": "execute_result"
    }
   ],
   "source": [
    "# plotting resionwise charging stations\n",
    "\n",
    "df_ch_stations['region'].value_counts()"
   ]
  },
  {
   "cell_type": "code",
   "execution_count": 31,
   "id": "814873e9-6396-421f-8549-b75a85131745",
   "metadata": {},
   "outputs": [
    {
     "data": {
      "image/png": "[encoded data removed]",
      "text/plain": [
       "<Figure size 360x360 with 1 Axes>"
      ]
     },
     "metadata": {
      "needs_background": "light"
     },
     "output_type": "display_data"
    }
   ],
   "source": [
    "plt.rcParams['figure.figsize'] = (5,5)\n",
    "ax = sns.countplot(x='region', data=df_ch_stations, order=df_ch_stations['region'].value_counts().index[::-1])\n",
    "\n",
    "for p in ax.patches:\n",
    "   ax.annotate('{:.0f}'.format(p.get_height()), (p.get_x()+0.25, p.get_height()+0.01))\n",
    "\n",
    "plt.xticks(rotation=90)\n",
    "plt.title('Charging Station in India', fontsize=15)\n",
    "plt.show()"
   ]
  },
  {
   "cell_type": "markdown",
   "id": "cbd29d45-0e28-4649-8216-96fc677fd34f",
   "metadata": {},
   "source": [
    "## Demographic Analysis"
   ]
  },
  {
   "cell_type": "code",
   "execution_count": 32,
   "id": "1411d934-d581-4c36-a556-7369fb3d4444",
   "metadata": {},
   "outputs": [
    {
     "data": {
      "text/html": [
       "<div>\n",
       "<style scoped>\n",
       "    .dataframe tbody tr th:only-of-type {\n",
       "        vertical-align: middle;\n",
       "    }\n",
       "\n",
       "    .dataframe tbody tr th {\n",
       "        vertical-align: top;\n",
       "    }\n",
       "\n",
       "    .dataframe thead th {\n",
       "        text-align: right;\n",
       "    }\n",
       "</style>\n",
       "<table border=\"1\" class=\"dataframe\">\n",
       "  <thead>\n",
       "    <tr style=\"text-align: right;\">\n",
       "      <th></th>\n",
       "      <th>Age</th>\n",
       "      <th>Profession</th>\n",
       "      <th>Marrital Status</th>\n",
       "      <th>Education</th>\n",
       "      <th>No of Dependents</th>\n",
       "      <th>Personal loan</th>\n",
       "      <th>House Loan</th>\n",
       "      <th>Wife Working</th>\n",
       "      <th>Salary</th>\n",
       "      <th>Wife Salary</th>\n",
       "      <th>Total Salary</th>\n",
       "      <th>Make</th>\n",
       "      <th>Price</th>\n",
       "    </tr>\n",
       "  </thead>\n",
       "  <tbody>\n",
       "    <tr>\n",
       "      <th>0</th>\n",
       "      <td>27</td>\n",
       "      <td>Salaried</td>\n",
       "      <td>Single</td>\n",
       "      <td>Post Graduate</td>\n",
       "      <td>0</td>\n",
       "      <td>Yes</td>\n",
       "      <td>No</td>\n",
       "      <td>No</td>\n",
       "      <td>800000</td>\n",
       "      <td>0</td>\n",
       "      <td>800000</td>\n",
       "      <td>i20</td>\n",
       "      <td>800000</td>\n",
       "    </tr>\n",
       "    <tr>\n",
       "      <th>1</th>\n",
       "      <td>35</td>\n",
       "      <td>Salaried</td>\n",
       "      <td>Married</td>\n",
       "      <td>Post Graduate</td>\n",
       "      <td>2</td>\n",
       "      <td>Yes</td>\n",
       "      <td>Yes</td>\n",
       "      <td>Yes</td>\n",
       "      <td>1400000</td>\n",
       "      <td>600000</td>\n",
       "      <td>2000000</td>\n",
       "      <td>Ciaz</td>\n",
       "      <td>1000000</td>\n",
       "    </tr>\n",
       "    <tr>\n",
       "      <th>2</th>\n",
       "      <td>45</td>\n",
       "      <td>Business</td>\n",
       "      <td>Married</td>\n",
       "      <td>Graduate</td>\n",
       "      <td>4</td>\n",
       "      <td>Yes</td>\n",
       "      <td>Yes</td>\n",
       "      <td>No</td>\n",
       "      <td>1800000</td>\n",
       "      <td>0</td>\n",
       "      <td>1800000</td>\n",
       "      <td>Duster</td>\n",
       "      <td>1200000</td>\n",
       "    </tr>\n",
       "    <tr>\n",
       "      <th>3</th>\n",
       "      <td>41</td>\n",
       "      <td>Business</td>\n",
       "      <td>Married</td>\n",
       "      <td>Post Graduate</td>\n",
       "      <td>3</td>\n",
       "      <td>No</td>\n",
       "      <td>No</td>\n",
       "      <td>Yes</td>\n",
       "      <td>1600000</td>\n",
       "      <td>600000</td>\n",
       "      <td>2200000</td>\n",
       "      <td>City</td>\n",
       "      <td>1200000</td>\n",
       "    </tr>\n",
       "    <tr>\n",
       "      <th>4</th>\n",
       "      <td>31</td>\n",
       "      <td>Salaried</td>\n",
       "      <td>Married</td>\n",
       "      <td>Post Graduate</td>\n",
       "      <td>2</td>\n",
       "      <td>Yes</td>\n",
       "      <td>No</td>\n",
       "      <td>Yes</td>\n",
       "      <td>1800000</td>\n",
       "      <td>800000</td>\n",
       "      <td>2600000</td>\n",
       "      <td>SUV</td>\n",
       "      <td>1600000</td>\n",
       "    </tr>\n",
       "  </tbody>\n",
       "</table>\n",
       "</div>"
      ],
      "text/plain": [
       "   Age Profession Marrital Status      Education  No of Dependents  \\\n",
       "0   27   Salaried          Single  Post Graduate                 0   \n",
       "1   35   Salaried         Married  Post Graduate                 2   \n",
       "2   45   Business         Married       Graduate                 4   \n",
       "3   41   Business         Married  Post Graduate                 3   \n",
       "4   31   Salaried         Married  Post Graduate                 2   \n",
       "\n",
       "  Personal loan House Loan Wife Working   Salary  Wife Salary  Total Salary  \\\n",
       "0           Yes         No           No   800000            0        800000   \n",
       "1           Yes        Yes          Yes  1400000       600000       2000000   \n",
       "2           Yes        Yes           No  1800000            0       1800000   \n",
       "3            No         No          Yes  1600000       600000       2200000   \n",
       "4           Yes         No          Yes  1800000       800000       2600000   \n",
       "\n",
       "     Make    Price  \n",
       "0     i20   800000  \n",
       "1    Ciaz  1000000  \n",
       "2  Duster  1200000  \n",
       "3    City  1200000  \n",
       "4     SUV  1600000  "
      ]
     },
     "execution_count": 32,
     "metadata": {},
     "output_type": "execute_result"
    }
   ],
   "source": [
    "df_Buying_Behave = pd.read_csv('Indian automoble buying behavour study 1.0.csv')\n",
    "df_Buying_Behave.head()"
   ]
  },
  {
   "cell_type": "code",
   "execution_count": 33,
   "id": "5197f1eb-0c99-4dd2-b252-c1a340021017",
   "metadata": {},
   "outputs": [
    {
     "data": {
      "text/plain": [
       "(99, 13)"
      ]
     },
     "execution_count": 33,
     "metadata": {},
     "output_type": "execute_result"
    }
   ],
   "source": [
    "df_Buying_Behave.shape"
   ]
  },
  {
   "cell_type": "code",
   "execution_count": 34,
   "id": "f8ffa0a8-00c5-4765-b5e2-e4db1f2d6d39",
   "metadata": {},
   "outputs": [
    {
     "name": "stdout",
     "output_type": "stream",
     "text": [
      "<class 'pandas.core.frame.DataFrame'>\n",
      "RangeIndex: 99 entries, 0 to 98\n",
      "Data columns (total 13 columns):\n",
      " #   Column            Non-Null Count  Dtype \n",
      "---  ------            --------------  ----- \n",
      " 0   Age               99 non-null     int64 \n",
      " 1   Profession        99 non-null     object\n",
      " 2   Marrital Status   99 non-null     object\n",
      " 3   Education         99 non-null     object\n",
      " 4   No of Dependents  99 non-null     int64 \n",
      " 5   Personal loan     99 non-null     object\n",
      " 6   House Loan        99 non-null     object\n",
      " 7   Wife Working      99 non-null     object\n",
      " 8   Salary            99 non-null     int64 \n",
      " 9   Wife Salary       99 non-null     int64 \n",
      " 10  Total Salary      99 non-null     int64 \n",
      " 11  Make              99 non-null     object\n",
      " 12  Price             99 non-null     int64 \n",
      "dtypes: int64(6), object(7)\n",
      "memory usage: 10.2+ KB\n"
     ]
    }
   ],
   "source": [
    "df_Buying_Behave.info()"
   ]
  },
  {
   "cell_type": "code",
   "execution_count": 35,
   "id": "1606857d-91de-49cc-83e3-6d7710e3591a",
   "metadata": {},
   "outputs": [
    {
     "data": {
      "text/plain": [
       "Age                 0\n",
       "Profession          0\n",
       "Marrital Status     0\n",
       "Education           0\n",
       "No of Dependents    0\n",
       "Personal loan       0\n",
       "House Loan          0\n",
       "Wife Working        0\n",
       "Salary              0\n",
       "Wife Salary         0\n",
       "Total Salary        0\n",
       "Make                0\n",
       "Price               0\n",
       "dtype: int64"
      ]
     },
     "execution_count": 35,
     "metadata": {},
     "output_type": "execute_result"
    }
   ],
   "source": [
    "df_Buying_Behave.isna().sum()"
   ]
  },
  {
   "cell_type": "code",
   "execution_count": 36,
   "id": "afc9853d-78d2-4e3c-8893-c96cf3bc8869",
   "metadata": {},
   "outputs": [
    {
     "data": {
      "text/html": [
       "<div>\n",
       "<style scoped>\n",
       "    .dataframe tbody tr th:only-of-type {\n",
       "        vertical-align: middle;\n",
       "    }\n",
       "\n",
       "    .dataframe tbody tr th {\n",
       "        vertical-align: top;\n",
       "    }\n",
       "\n",
       "    .dataframe thead th {\n",
       "        text-align: right;\n",
       "    }\n",
       "</style>\n",
       "<table border=\"1\" class=\"dataframe\">\n",
       "  <thead>\n",
       "    <tr style=\"text-align: right;\">\n",
       "      <th></th>\n",
       "      <th>count</th>\n",
       "      <th>mean</th>\n",
       "      <th>std</th>\n",
       "      <th>min</th>\n",
       "      <th>25%</th>\n",
       "      <th>50%</th>\n",
       "      <th>75%</th>\n",
       "      <th>max</th>\n",
       "    </tr>\n",
       "  </thead>\n",
       "  <tbody>\n",
       "    <tr>\n",
       "      <th>Age</th>\n",
       "      <td>99.0</td>\n",
       "      <td>3.631313e+01</td>\n",
       "      <td>6.246054e+00</td>\n",
       "      <td>26.0</td>\n",
       "      <td>31.0</td>\n",
       "      <td>36.0</td>\n",
       "      <td>41.0</td>\n",
       "      <td>51.0</td>\n",
       "    </tr>\n",
       "    <tr>\n",
       "      <th>No of Dependents</th>\n",
       "      <td>99.0</td>\n",
       "      <td>2.181818e+00</td>\n",
       "      <td>1.335265e+00</td>\n",
       "      <td>0.0</td>\n",
       "      <td>2.0</td>\n",
       "      <td>2.0</td>\n",
       "      <td>3.0</td>\n",
       "      <td>4.0</td>\n",
       "    </tr>\n",
       "    <tr>\n",
       "      <th>Salary</th>\n",
       "      <td>99.0</td>\n",
       "      <td>1.736364e+06</td>\n",
       "      <td>6.736217e+05</td>\n",
       "      <td>200000.0</td>\n",
       "      <td>1300000.0</td>\n",
       "      <td>1600000.0</td>\n",
       "      <td>2200000.0</td>\n",
       "      <td>3800000.0</td>\n",
       "    </tr>\n",
       "    <tr>\n",
       "      <th>Wife Salary</th>\n",
       "      <td>99.0</td>\n",
       "      <td>5.343434e+05</td>\n",
       "      <td>6.054450e+05</td>\n",
       "      <td>0.0</td>\n",
       "      <td>0.0</td>\n",
       "      <td>500000.0</td>\n",
       "      <td>900000.0</td>\n",
       "      <td>2100000.0</td>\n",
       "    </tr>\n",
       "    <tr>\n",
       "      <th>Total Salary</th>\n",
       "      <td>99.0</td>\n",
       "      <td>2.270707e+06</td>\n",
       "      <td>1.050777e+06</td>\n",
       "      <td>200000.0</td>\n",
       "      <td>1550000.0</td>\n",
       "      <td>2100000.0</td>\n",
       "      <td>2700000.0</td>\n",
       "      <td>5200000.0</td>\n",
       "    </tr>\n",
       "    <tr>\n",
       "      <th>Price</th>\n",
       "      <td>99.0</td>\n",
       "      <td>1.194040e+06</td>\n",
       "      <td>4.376955e+05</td>\n",
       "      <td>110000.0</td>\n",
       "      <td>800000.0</td>\n",
       "      <td>1200000.0</td>\n",
       "      <td>1500000.0</td>\n",
       "      <td>3000000.0</td>\n",
       "    </tr>\n",
       "  </tbody>\n",
       "</table>\n",
       "</div>"
      ],
      "text/plain": [
       "                  count          mean           std       min        25%  \\\n",
       "Age                99.0  3.631313e+01  6.246054e+00      26.0       31.0   \n",
       "No of Dependents   99.0  2.181818e+00  1.335265e+00       0.0        2.0   \n",
       "Salary             99.0  1.736364e+06  6.736217e+05  200000.0  1300000.0   \n",
       "Wife Salary        99.0  5.343434e+05  6.054450e+05       0.0        0.0   \n",
       "Total Salary       99.0  2.270707e+06  1.050777e+06  200000.0  1550000.0   \n",
       "Price              99.0  1.194040e+06  4.376955e+05  110000.0   800000.0   \n",
       "\n",
       "                        50%        75%        max  \n",
       "Age                    36.0       41.0       51.0  \n",
       "No of Dependents        2.0        3.0        4.0  \n",
       "Salary            1600000.0  2200000.0  3800000.0  \n",
       "Wife Salary        500000.0   900000.0  2100000.0  \n",
       "Total Salary      2100000.0  2700000.0  5200000.0  \n",
       "Price             1200000.0  1500000.0  3000000.0  "
      ]
     },
     "execution_count": 36,
     "metadata": {},
     "output_type": "execute_result"
    }
   ],
   "source": [
    "df_Buying_Behave.describe().T"
   ]
  },
  {
   "cell_type": "code",
   "execution_count": 112,
   "id": "e6ccc15e-b979-4006-a630-8d7a3206c088",
   "metadata": {},
   "outputs": [
    {
     "data": {
      "image/png": "[encoded data removed]",
      "text/plain": [
       "<Figure size 1800x288 with 3 Axes>"
      ]
     },
     "metadata": {
      "needs_background": "light"
     },
     "output_type": "display_data"
    }
   ],
   "source": [
    "plt.figure(1, figsize=(25,4))\n",
    "n=0\n",
    "for x in ['Age','Total Salary'  ,'No of Dependents']:\n",
    "  n += 1\n",
    "  plt.subplot(1,6,n)\n",
    "  plt.subplots_adjust(hspace=0.5, wspace=0.5)\n",
    "  sns.distplot(df_Buying_Behave[x], bins = 20)\n",
    "  plt.title('Distplot of {}'.format(x))\n",
    "plt.show()\n"
   ]
  },
  {
   "cell_type": "code",
   "execution_count": 38,
   "id": "aaea814c-0339-42dc-88d1-f7aea205a4d4",
   "metadata": {},
   "outputs": [
    {
     "data": {
      "text/plain": [
       "Salaried    64\n",
       "Business    35\n",
       "Name: Profession, dtype: int64"
      ]
     },
     "execution_count": 38,
     "metadata": {},
     "output_type": "execute_result"
    }
   ],
   "source": [
    "df_Buying_Behave['Profession'].value_counts()"
   ]
  },
  {
   "cell_type": "code",
   "execution_count": 39,
   "id": "6024c72c-2bf8-4aef-a763-2a41a577f76b",
   "metadata": {},
   "outputs": [
    {
     "data": {
      "text/plain": [
       "<AxesSubplot:xlabel='Profession', ylabel='count'>"
      ]
     },
     "execution_count": 39,
     "metadata": {},
     "output_type": "execute_result"
    },
    {
     "data": {
      "image/png": "[encoded data removed]",
      "text/plain": [
       "<Figure size 360x360 with 1 Axes>"
      ]
     },
     "metadata": {
      "needs_background": "light"
     },
     "output_type": "display_data"
    }
   ],
   "source": [
    "sns.countplot(x='Profession', data= df_Buying_Behave)"
   ]
  },
  {
   "cell_type": "code",
   "execution_count": 40,
   "id": "c0a1303b-7b13-4e8b-ac27-32d6316cde6e",
   "metadata": {},
   "outputs": [
    {
     "data": {
      "text/plain": [
       "Married    84\n",
       "Single     15\n",
       "Name: Marrital Status, dtype: int64"
      ]
     },
     "execution_count": 40,
     "metadata": {},
     "output_type": "execute_result"
    }
   ],
   "source": [
    "df_Buying_Behave['Marrital Status'].value_counts()"
   ]
  },
  {
   "cell_type": "code",
   "execution_count": 41,
   "id": "9c5d1a71-2dcd-4449-9b6b-c3c41207c58f",
   "metadata": {},
   "outputs": [
    {
     "data": {
      "text/plain": [
       "<AxesSubplot:xlabel='Marrital Status', ylabel='count'>"
      ]
     },
     "execution_count": 41,
     "metadata": {},
     "output_type": "execute_result"
    },
    {
     "data": {
      "image/png": "[encoded data removed]",
      "text/plain": [
       "<Figure size 360x360 with 1 Axes>"
      ]
     },
     "metadata": {
      "needs_background": "light"
     },
     "output_type": "display_data"
    }
   ],
   "source": [
    "sns.countplot(x='Marrital Status', data= df_Buying_Behave)"
   ]
  },
  {
   "cell_type": "code",
   "execution_count": 42,
   "id": "45bd3808-53fc-4836-9eb9-fd076559737e",
   "metadata": {},
   "outputs": [
    {
     "data": {
      "image/png": "[encoded data removed]",
      "text/plain": [
       "<Figure size 360x360 with 1 Axes>"
      ]
     },
     "metadata": {
      "needs_background": "light"
     },
     "output_type": "display_data"
    }
   ],
   "source": [
    "plt.figure(figsize=(5,5))\n",
    "sns.countplot(x='Personal loan',data=df_Buying_Behave)\n",
    "plt.show()"
   ]
  },
  {
   "cell_type": "code",
   "execution_count": 43,
   "id": "f671b385-3084-4ab1-aa60-85989fd0773f",
   "metadata": {},
   "outputs": [
    {
     "data": {
      "image/png": "[encoded data removed]",
      "text/plain": [
       "<Figure size 360x360 with 1 Axes>"
      ]
     },
     "metadata": {
      "needs_background": "light"
     },
     "output_type": "display_data"
    }
   ],
   "source": [
    "plt.figure(figsize=(5,5))\n",
    "sns.countplot(x='House Loan',data=df_Buying_Behave)\n",
    "plt.show()"
   ]
  },
  {
   "cell_type": "code",
   "execution_count": 44,
   "id": "8f1f5f9f-3067-455a-b64e-d314d9d86181",
   "metadata": {},
   "outputs": [
    {
     "data": {
      "image/png": "[encoded data removed]",
      "text/plain": [
       "<Figure size 360x360 with 1 Axes>"
      ]
     },
     "metadata": {
      "needs_background": "light"
     },
     "output_type": "display_data"
    }
   ],
   "source": [
    "plt.figure(figsize=(5,5))\n",
    "ax = sns.countplot(x='Wife Working',data=df_Buying_Behave)\n",
    "for p in ax.patches:\n",
    "   ax.annotate('{:.0f}'.format(p.get_height()), (p.get_x()+0.25, p.get_height()+0.01))\n",
    "\n",
    "plt.show()"
   ]
  },
  {
   "cell_type": "code",
   "execution_count": 45,
   "id": "ed2c87ad-780b-42f4-a02a-7b6938396aff",
   "metadata": {},
   "outputs": [
    {
     "data": {
      "text/html": [
       "<div>\n",
       "<style scoped>\n",
       "    .dataframe tbody tr th:only-of-type {\n",
       "        vertical-align: middle;\n",
       "    }\n",
       "\n",
       "    .dataframe tbody tr th {\n",
       "        vertical-align: top;\n",
       "    }\n",
       "\n",
       "    .dataframe thead th {\n",
       "        text-align: right;\n",
       "    }\n",
       "</style>\n",
       "<table border=\"1\" class=\"dataframe\">\n",
       "  <thead>\n",
       "    <tr style=\"text-align: right;\">\n",
       "      <th></th>\n",
       "      <th>Age</th>\n",
       "      <th>Profession</th>\n",
       "      <th>Marrital Status</th>\n",
       "      <th>Education</th>\n",
       "      <th>No of Dependents</th>\n",
       "      <th>Personal loan</th>\n",
       "      <th>House Loan</th>\n",
       "      <th>Wife Working</th>\n",
       "      <th>Salary</th>\n",
       "      <th>Wife Salary</th>\n",
       "      <th>Total Salary</th>\n",
       "      <th>Make</th>\n",
       "      <th>Price</th>\n",
       "    </tr>\n",
       "  </thead>\n",
       "  <tbody>\n",
       "    <tr>\n",
       "      <th>0</th>\n",
       "      <td>27</td>\n",
       "      <td>Salaried</td>\n",
       "      <td>Single</td>\n",
       "      <td>Post Graduate</td>\n",
       "      <td>0</td>\n",
       "      <td>Yes</td>\n",
       "      <td>No</td>\n",
       "      <td>No</td>\n",
       "      <td>800000</td>\n",
       "      <td>0</td>\n",
       "      <td>800000</td>\n",
       "      <td>i20</td>\n",
       "      <td>800000</td>\n",
       "    </tr>\n",
       "    <tr>\n",
       "      <th>1</th>\n",
       "      <td>35</td>\n",
       "      <td>Salaried</td>\n",
       "      <td>Married</td>\n",
       "      <td>Post Graduate</td>\n",
       "      <td>2</td>\n",
       "      <td>Yes</td>\n",
       "      <td>Yes</td>\n",
       "      <td>Yes</td>\n",
       "      <td>1400000</td>\n",
       "      <td>600000</td>\n",
       "      <td>2000000</td>\n",
       "      <td>Ciaz</td>\n",
       "      <td>1000000</td>\n",
       "    </tr>\n",
       "    <tr>\n",
       "      <th>2</th>\n",
       "      <td>45</td>\n",
       "      <td>Business</td>\n",
       "      <td>Married</td>\n",
       "      <td>Graduate</td>\n",
       "      <td>4</td>\n",
       "      <td>Yes</td>\n",
       "      <td>Yes</td>\n",
       "      <td>No</td>\n",
       "      <td>1800000</td>\n",
       "      <td>0</td>\n",
       "      <td>1800000</td>\n",
       "      <td>Duster</td>\n",
       "      <td>1200000</td>\n",
       "    </tr>\n",
       "    <tr>\n",
       "      <th>3</th>\n",
       "      <td>41</td>\n",
       "      <td>Business</td>\n",
       "      <td>Married</td>\n",
       "      <td>Post Graduate</td>\n",
       "      <td>3</td>\n",
       "      <td>No</td>\n",
       "      <td>No</td>\n",
       "      <td>Yes</td>\n",
       "      <td>1600000</td>\n",
       "      <td>600000</td>\n",
       "      <td>2200000</td>\n",
       "      <td>City</td>\n",
       "      <td>1200000</td>\n",
       "    </tr>\n",
       "    <tr>\n",
       "      <th>4</th>\n",
       "      <td>31</td>\n",
       "      <td>Salaried</td>\n",
       "      <td>Married</td>\n",
       "      <td>Post Graduate</td>\n",
       "      <td>2</td>\n",
       "      <td>Yes</td>\n",
       "      <td>No</td>\n",
       "      <td>Yes</td>\n",
       "      <td>1800000</td>\n",
       "      <td>800000</td>\n",
       "      <td>2600000</td>\n",
       "      <td>SUV</td>\n",
       "      <td>1600000</td>\n",
       "    </tr>\n",
       "  </tbody>\n",
       "</table>\n",
       "</div>"
      ],
      "text/plain": [
       "   Age Profession Marrital Status      Education  No of Dependents  \\\n",
       "0   27   Salaried          Single  Post Graduate                 0   \n",
       "1   35   Salaried         Married  Post Graduate                 2   \n",
       "2   45   Business         Married       Graduate                 4   \n",
       "3   41   Business         Married  Post Graduate                 3   \n",
       "4   31   Salaried         Married  Post Graduate                 2   \n",
       "\n",
       "  Personal loan House Loan Wife Working   Salary  Wife Salary  Total Salary  \\\n",
       "0           Yes         No           No   800000            0        800000   \n",
       "1           Yes        Yes          Yes  1400000       600000       2000000   \n",
       "2           Yes        Yes           No  1800000            0       1800000   \n",
       "3            No         No          Yes  1600000       600000       2200000   \n",
       "4           Yes         No          Yes  1800000       800000       2600000   \n",
       "\n",
       "     Make    Price  \n",
       "0     i20   800000  \n",
       "1    Ciaz  1000000  \n",
       "2  Duster  1200000  \n",
       "3    City  1200000  \n",
       "4     SUV  1600000  "
      ]
     },
     "execution_count": 45,
     "metadata": {},
     "output_type": "execute_result"
    }
   ],
   "source": [
    "df_Buying_Behave = df_Buying_Behave.replace(to_replace='m', value='No')\n",
    "df_Buying_Behave.head()"
   ]
  },
  {
   "cell_type": "code",
   "execution_count": 46,
   "id": "0d703ec8-5933-452e-83bf-87aa8f5b19d9",
   "metadata": {},
   "outputs": [
    {
     "data": {
      "text/html": [
       "<div>\n",
       "<style scoped>\n",
       "    .dataframe tbody tr th:only-of-type {\n",
       "        vertical-align: middle;\n",
       "    }\n",
       "\n",
       "    .dataframe tbody tr th {\n",
       "        vertical-align: top;\n",
       "    }\n",
       "\n",
       "    .dataframe thead th {\n",
       "        text-align: right;\n",
       "    }\n",
       "</style>\n",
       "<table border=\"1\" class=\"dataframe\">\n",
       "  <thead>\n",
       "    <tr style=\"text-align: right;\">\n",
       "      <th></th>\n",
       "      <th>Age</th>\n",
       "      <th>Profession</th>\n",
       "      <th>Marrital Status</th>\n",
       "      <th>Education</th>\n",
       "      <th>No of Dependents</th>\n",
       "      <th>Personal loan</th>\n",
       "      <th>House Loan</th>\n",
       "      <th>Wife Working</th>\n",
       "      <th>Salary</th>\n",
       "      <th>Wife Salary</th>\n",
       "      <th>Total Salary</th>\n",
       "      <th>Make</th>\n",
       "      <th>Price</th>\n",
       "    </tr>\n",
       "  </thead>\n",
       "  <tbody>\n",
       "  </tbody>\n",
       "</table>\n",
       "</div>"
      ],
      "text/plain": [
       "Empty DataFrame\n",
       "Columns: [Age, Profession, Marrital Status, Education, No of Dependents, Personal loan, House Loan, Wife Working, Salary, Wife Salary, Total Salary, Make, Price]\n",
       "Index: []"
      ]
     },
     "execution_count": 46,
     "metadata": {},
     "output_type": "execute_result"
    }
   ],
   "source": [
    "df_Buying_Behave.loc[df_Buying_Behave['Wife Working'] == 'm']"
   ]
  },
  {
   "cell_type": "code",
   "execution_count": 47,
   "id": "63a0e8b8-6132-4e52-a03b-e9686d056677",
   "metadata": {},
   "outputs": [
    {
     "data": {
      "image/png": "[encoded data removed]",
      "text/plain": [
       "<Figure size 360x360 with 1 Axes>"
      ]
     },
     "metadata": {
      "needs_background": "light"
     },
     "output_type": "display_data"
    }
   ],
   "source": [
    "plt.figure(figsize=(5,5))\n",
    "ax = sns.countplot(x='Wife Working',data=df_Buying_Behave)\n",
    "\n",
    "for p in ax.patches:\n",
    "   ax.annotate('{:.0f}'.format(p.get_height()), (p.get_x()+0.25, p.get_height()+0.01))\n",
    "\n",
    "plt.show()"
   ]
  },
  {
   "cell_type": "code",
   "execution_count": 48,
   "id": "9291d85a-7de1-4512-9556-38ab9a9b121b",
   "metadata": {},
   "outputs": [
    {
     "data": {
      "image/png": "[encoded data removed]",
      "text/plain": [
       "<Figure size 1080x360 with 1 Axes>"
      ]
     },
     "metadata": {
      "needs_background": "light"
     },
     "output_type": "display_data"
    }
   ],
   "source": [
    "plt.figure(figsize=(15,5))\n",
    "ax = sns.countplot(y='Make',data=df_Buying_Behave)\n",
    "for p in ax.patches:\n",
    "    ax.annotate(int(p.get_width()),((p.get_x() + p.get_width()), p.get_y()), xytext=(20, -15),fontsize=15,color='#004d00',textcoords='offset points', horizontalalignment='right')\n",
    "\n",
    "plt.xlabel('Count',fontsize=15)\n",
    "plt.ylabel('Car type', fontsize=15)\n",
    "plt.show()"
   ]
  },
  {
   "cell_type": "code",
   "execution_count": 49,
   "id": "f8adb1fa-6a41-49e3-addd-631a4dece246",
   "metadata": {},
   "outputs": [
    {
     "data": {
      "text/html": [
       "<div>\n",
       "<style scoped>\n",
       "    .dataframe tbody tr th:only-of-type {\n",
       "        vertical-align: middle;\n",
       "    }\n",
       "\n",
       "    .dataframe tbody tr th {\n",
       "        vertical-align: top;\n",
       "    }\n",
       "\n",
       "    .dataframe thead th {\n",
       "        text-align: right;\n",
       "    }\n",
       "</style>\n",
       "<table border=\"1\" class=\"dataframe\">\n",
       "  <thead>\n",
       "    <tr style=\"text-align: right;\">\n",
       "      <th></th>\n",
       "      <th>Age</th>\n",
       "      <th>No of Dependents</th>\n",
       "      <th>Salary</th>\n",
       "      <th>Wife Salary</th>\n",
       "      <th>Total Salary</th>\n",
       "      <th>Price</th>\n",
       "    </tr>\n",
       "  </thead>\n",
       "  <tbody>\n",
       "    <tr>\n",
       "      <th>Age</th>\n",
       "      <td>1.000000</td>\n",
       "      <td>0.543675</td>\n",
       "      <td>0.656442</td>\n",
       "      <td>0.288546</td>\n",
       "      <td>0.587082</td>\n",
       "      <td>0.376661</td>\n",
       "    </tr>\n",
       "    <tr>\n",
       "      <th>No of Dependents</th>\n",
       "      <td>0.543675</td>\n",
       "      <td>1.000000</td>\n",
       "      <td>0.273921</td>\n",
       "      <td>0.102010</td>\n",
       "      <td>0.234379</td>\n",
       "      <td>0.088822</td>\n",
       "    </tr>\n",
       "    <tr>\n",
       "      <th>Salary</th>\n",
       "      <td>0.656442</td>\n",
       "      <td>0.273921</td>\n",
       "      <td>1.000000</td>\n",
       "      <td>0.347934</td>\n",
       "      <td>0.841545</td>\n",
       "      <td>0.547630</td>\n",
       "    </tr>\n",
       "    <tr>\n",
       "      <th>Wife Salary</th>\n",
       "      <td>0.288546</td>\n",
       "      <td>0.102010</td>\n",
       "      <td>0.347934</td>\n",
       "      <td>1.000000</td>\n",
       "      <td>0.799238</td>\n",
       "      <td>0.635858</td>\n",
       "    </tr>\n",
       "    <tr>\n",
       "      <th>Total Salary</th>\n",
       "      <td>0.587082</td>\n",
       "      <td>0.234379</td>\n",
       "      <td>0.841545</td>\n",
       "      <td>0.799238</td>\n",
       "      <td>1.000000</td>\n",
       "      <td>0.717442</td>\n",
       "    </tr>\n",
       "    <tr>\n",
       "      <th>Price</th>\n",
       "      <td>0.376661</td>\n",
       "      <td>0.088822</td>\n",
       "      <td>0.547630</td>\n",
       "      <td>0.635858</td>\n",
       "      <td>0.717442</td>\n",
       "      <td>1.000000</td>\n",
       "    </tr>\n",
       "  </tbody>\n",
       "</table>\n",
       "</div>"
      ],
      "text/plain": [
       "                       Age  No of Dependents    Salary  Wife Salary  \\\n",
       "Age               1.000000          0.543675  0.656442     0.288546   \n",
       "No of Dependents  0.543675          1.000000  0.273921     0.102010   \n",
       "Salary            0.656442          0.273921  1.000000     0.347934   \n",
       "Wife Salary       0.288546          0.102010  0.347934     1.000000   \n",
       "Total Salary      0.587082          0.234379  0.841545     0.799238   \n",
       "Price             0.376661          0.088822  0.547630     0.635858   \n",
       "\n",
       "                  Total Salary     Price  \n",
       "Age                   0.587082  0.376661  \n",
       "No of Dependents      0.234379  0.088822  \n",
       "Salary                0.841545  0.547630  \n",
       "Wife Salary           0.799238  0.635858  \n",
       "Total Salary          1.000000  0.717442  \n",
       "Price                 0.717442  1.000000  "
      ]
     },
     "execution_count": 49,
     "metadata": {},
     "output_type": "execute_result"
    }
   ],
   "source": [
    "df_Buying_Behave.corr()"
   ]
  },
  {
   "cell_type": "code",
   "execution_count": 50,
   "id": "248090de-5f37-4e79-937e-6946beeb4a0c",
   "metadata": {},
   "outputs": [
    {
     "data": {
      "text/plain": [
       "<AxesSubplot:>"
      ]
     },
     "execution_count": 50,
     "metadata": {},
     "output_type": "execute_result"
    },
    {
     "data": {
      "image/png": "[encoded data removed]",
      "text/plain": [
       "<Figure size 720x360 with 2 Axes>"
      ]
     },
     "metadata": {
      "needs_background": "light"
     },
     "output_type": "display_data"
    }
   ],
   "source": [
    "# plotting corelation between different features\n",
    "\n",
    "plt.rcParams['figure.figsize'] = (10,5)\n",
    "sns.heatmap(df_Buying_Behave.corr(),annot=True, cmap='RdBu_r')"
   ]
  },
  {
   "cell_type": "raw",
   "id": "1329494e-7a82-4ead-9e18-73b20425daa8",
   "metadata": {},
   "source": [
    "A scatter plot of total salary against the price of the car owned."
   ]
  },
  {
   "cell_type": "code",
   "execution_count": 51,
   "id": "29a74252-cf54-4714-a4ab-1886e25188f0",
   "metadata": {},
   "outputs": [
    {
     "data": {
      "text/plain": [
       "<matplotlib.collections.PathCollection at 0x16a9db33c70>"
      ]
     },
     "execution_count": 51,
     "metadata": {},
     "output_type": "execute_result"
    },
    {
     "data": {
      "image/png": "[encoded data removed]",
      "text/plain": [
       "<Figure size 360x360 with 1 Axes>"
      ]
     },
     "metadata": {
      "needs_background": "light"
     },
     "output_type": "display_data"
    }
   ],
   "source": [
    "plt.rcParams['figure.figsize' ]= (5,5)\n",
    "plt.xlabel('total salary')\n",
    "plt.ylabel('Price of car owned')\n",
    "plt.scatter(df_Buying_Behave['Total Salary'],df_Buying_Behave['Price'])"
   ]
  },
  {
   "cell_type": "code",
   "execution_count": 52,
   "id": "07b93fb1-9617-46b2-b308-cf35b8856282",
   "metadata": {},
   "outputs": [
    {
     "data": {
      "image/png": "[encoded data removed]",
      "text/plain": [
       "<Figure size 360x360 with 1 Axes>"
      ]
     },
     "metadata": {
      "needs_background": "light"
     },
     "output_type": "display_data"
    }
   ],
   "source": [
    "# A scatter plot of Age against the price of the car owned.\n",
    "plt.xlabel('Age')\n",
    "plt.ylabel('Price of car owned')\n",
    "plt.scatter(df_Buying_Behave['Age'],df_Buying_Behave['Price'])\n",
    "plt.show()"
   ]
  },
  {
   "cell_type": "code",
   "execution_count": 53,
   "id": "9cb8aa20-d47f-4a6d-b7a0-ef3bd8d27824",
   "metadata": {},
   "outputs": [
    {
     "data": {
      "image/png": "[encoded data removed]",
      "text/plain": [
       "<Figure size 360x360 with 1 Axes>"
      ]
     },
     "metadata": {
      "needs_background": "light"
     },
     "output_type": "display_data"
    }
   ],
   "source": [
    "# A scatter plot of Profession against the price of the car owned.\n",
    "plt.xlabel('Profession')\n",
    "plt.ylabel('Price of car owned')\n",
    "plt.scatter(df_Buying_Behave['Profession'],df_Buying_Behave['Price'])\n",
    "plt.show()"
   ]
  },
  {
   "cell_type": "code",
   "execution_count": 54,
   "id": "e4946099-9b55-4eac-b3d4-abf0c9e55844",
   "metadata": {},
   "outputs": [
    {
     "data": {
      "text/html": [
       "<div>\n",
       "<style scoped>\n",
       "    .dataframe tbody tr th:only-of-type {\n",
       "        vertical-align: middle;\n",
       "    }\n",
       "\n",
       "    .dataframe tbody tr th {\n",
       "        vertical-align: top;\n",
       "    }\n",
       "\n",
       "    .dataframe thead th {\n",
       "        text-align: right;\n",
       "    }\n",
       "</style>\n",
       "<table border=\"1\" class=\"dataframe\">\n",
       "  <thead>\n",
       "    <tr style=\"text-align: right;\">\n",
       "      <th></th>\n",
       "      <th>Age</th>\n",
       "      <th>Profession</th>\n",
       "      <th>Marrital Status</th>\n",
       "      <th>Education</th>\n",
       "      <th>No of Dependents</th>\n",
       "      <th>Personal loan</th>\n",
       "      <th>House Loan</th>\n",
       "      <th>Wife Working</th>\n",
       "      <th>Salary</th>\n",
       "      <th>Wife Salary</th>\n",
       "      <th>Total Salary</th>\n",
       "      <th>Make</th>\n",
       "      <th>Price</th>\n",
       "    </tr>\n",
       "  </thead>\n",
       "  <tbody>\n",
       "    <tr>\n",
       "      <th>0</th>\n",
       "      <td>27</td>\n",
       "      <td>1</td>\n",
       "      <td>1</td>\n",
       "      <td>1</td>\n",
       "      <td>0</td>\n",
       "      <td>1</td>\n",
       "      <td>0</td>\n",
       "      <td>0</td>\n",
       "      <td>800000</td>\n",
       "      <td>0</td>\n",
       "      <td>800000</td>\n",
       "      <td>i20</td>\n",
       "      <td>800000</td>\n",
       "    </tr>\n",
       "    <tr>\n",
       "      <th>1</th>\n",
       "      <td>35</td>\n",
       "      <td>1</td>\n",
       "      <td>0</td>\n",
       "      <td>1</td>\n",
       "      <td>2</td>\n",
       "      <td>1</td>\n",
       "      <td>1</td>\n",
       "      <td>1</td>\n",
       "      <td>1400000</td>\n",
       "      <td>600000</td>\n",
       "      <td>2000000</td>\n",
       "      <td>Ciaz</td>\n",
       "      <td>1000000</td>\n",
       "    </tr>\n",
       "    <tr>\n",
       "      <th>2</th>\n",
       "      <td>45</td>\n",
       "      <td>0</td>\n",
       "      <td>0</td>\n",
       "      <td>0</td>\n",
       "      <td>4</td>\n",
       "      <td>1</td>\n",
       "      <td>1</td>\n",
       "      <td>0</td>\n",
       "      <td>1800000</td>\n",
       "      <td>0</td>\n",
       "      <td>1800000</td>\n",
       "      <td>Duster</td>\n",
       "      <td>1200000</td>\n",
       "    </tr>\n",
       "    <tr>\n",
       "      <th>3</th>\n",
       "      <td>41</td>\n",
       "      <td>0</td>\n",
       "      <td>0</td>\n",
       "      <td>1</td>\n",
       "      <td>3</td>\n",
       "      <td>0</td>\n",
       "      <td>0</td>\n",
       "      <td>1</td>\n",
       "      <td>1600000</td>\n",
       "      <td>600000</td>\n",
       "      <td>2200000</td>\n",
       "      <td>City</td>\n",
       "      <td>1200000</td>\n",
       "    </tr>\n",
       "    <tr>\n",
       "      <th>4</th>\n",
       "      <td>31</td>\n",
       "      <td>1</td>\n",
       "      <td>0</td>\n",
       "      <td>1</td>\n",
       "      <td>2</td>\n",
       "      <td>1</td>\n",
       "      <td>0</td>\n",
       "      <td>1</td>\n",
       "      <td>1800000</td>\n",
       "      <td>800000</td>\n",
       "      <td>2600000</td>\n",
       "      <td>SUV</td>\n",
       "      <td>1600000</td>\n",
       "    </tr>\n",
       "  </tbody>\n",
       "</table>\n",
       "</div>"
      ],
      "text/plain": [
       "   Age  Profession  Marrital Status  Education  No of Dependents  \\\n",
       "0   27           1                1          1                 0   \n",
       "1   35           1                0          1                 2   \n",
       "2   45           0                0          0                 4   \n",
       "3   41           0                0          1                 3   \n",
       "4   31           1                0          1                 2   \n",
       "\n",
       "   Personal loan  House Loan  Wife Working   Salary  Wife Salary  \\\n",
       "0              1           0             0   800000            0   \n",
       "1              1           1             1  1400000       600000   \n",
       "2              1           1             0  1800000            0   \n",
       "3              0           0             1  1600000       600000   \n",
       "4              1           0             1  1800000       800000   \n",
       "\n",
       "   Total Salary    Make    Price  \n",
       "0        800000     i20   800000  \n",
       "1       2000000    Ciaz  1000000  \n",
       "2       1800000  Duster  1200000  \n",
       "3       2200000    City  1200000  \n",
       "4       2600000     SUV  1600000  "
      ]
     },
     "execution_count": 54,
     "metadata": {},
     "output_type": "execute_result"
    }
   ],
   "source": [
    "from sklearn.preprocessing import LabelEncoder\n",
    "\n",
    "cols = ['Profession', 'Marrital Status', 'Education', 'Personal loan','House Loan','Wife Working']\n",
    "#\n",
    "# Encode labels of multiple columns at once\n",
    "#\n",
    "df_Buying_Behave[cols] = df_Buying_Behave[cols].apply(LabelEncoder().fit_transform)\n",
    "\n",
    "df_Buying_Behave.head()"
   ]
  },
  {
   "cell_type": "code",
   "execution_count": 55,
   "id": "a1a9b92a-413d-4a6b-8d1e-eb923c50bc27",
   "metadata": {},
   "outputs": [
    {
     "data": {
      "text/html": [
       "<div>\n",
       "<style scoped>\n",
       "    .dataframe tbody tr th:only-of-type {\n",
       "        vertical-align: middle;\n",
       "    }\n",
       "\n",
       "    .dataframe tbody tr th {\n",
       "        vertical-align: top;\n",
       "    }\n",
       "\n",
       "    .dataframe thead th {\n",
       "        text-align: right;\n",
       "    }\n",
       "</style>\n",
       "<table border=\"1\" class=\"dataframe\">\n",
       "  <thead>\n",
       "    <tr style=\"text-align: right;\">\n",
       "      <th></th>\n",
       "      <th>Age</th>\n",
       "      <th>Profession</th>\n",
       "      <th>Marrital Status</th>\n",
       "      <th>Education</th>\n",
       "      <th>No of Dependents</th>\n",
       "      <th>Personal loan</th>\n",
       "      <th>House Loan</th>\n",
       "      <th>Wife Working</th>\n",
       "      <th>Salary</th>\n",
       "      <th>Wife Salary</th>\n",
       "      <th>Total Salary</th>\n",
       "      <th>Price</th>\n",
       "    </tr>\n",
       "  </thead>\n",
       "  <tbody>\n",
       "    <tr>\n",
       "      <th>0</th>\n",
       "      <td>27</td>\n",
       "      <td>1</td>\n",
       "      <td>1</td>\n",
       "      <td>1</td>\n",
       "      <td>0</td>\n",
       "      <td>1</td>\n",
       "      <td>0</td>\n",
       "      <td>0</td>\n",
       "      <td>800000</td>\n",
       "      <td>0</td>\n",
       "      <td>800000</td>\n",
       "      <td>800000</td>\n",
       "    </tr>\n",
       "    <tr>\n",
       "      <th>1</th>\n",
       "      <td>35</td>\n",
       "      <td>1</td>\n",
       "      <td>0</td>\n",
       "      <td>1</td>\n",
       "      <td>2</td>\n",
       "      <td>1</td>\n",
       "      <td>1</td>\n",
       "      <td>1</td>\n",
       "      <td>1400000</td>\n",
       "      <td>600000</td>\n",
       "      <td>2000000</td>\n",
       "      <td>1000000</td>\n",
       "    </tr>\n",
       "    <tr>\n",
       "      <th>2</th>\n",
       "      <td>45</td>\n",
       "      <td>0</td>\n",
       "      <td>0</td>\n",
       "      <td>0</td>\n",
       "      <td>4</td>\n",
       "      <td>1</td>\n",
       "      <td>1</td>\n",
       "      <td>0</td>\n",
       "      <td>1800000</td>\n",
       "      <td>0</td>\n",
       "      <td>1800000</td>\n",
       "      <td>1200000</td>\n",
       "    </tr>\n",
       "    <tr>\n",
       "      <th>3</th>\n",
       "      <td>41</td>\n",
       "      <td>0</td>\n",
       "      <td>0</td>\n",
       "      <td>1</td>\n",
       "      <td>3</td>\n",
       "      <td>0</td>\n",
       "      <td>0</td>\n",
       "      <td>1</td>\n",
       "      <td>1600000</td>\n",
       "      <td>600000</td>\n",
       "      <td>2200000</td>\n",
       "      <td>1200000</td>\n",
       "    </tr>\n",
       "    <tr>\n",
       "      <th>4</th>\n",
       "      <td>31</td>\n",
       "      <td>1</td>\n",
       "      <td>0</td>\n",
       "      <td>1</td>\n",
       "      <td>2</td>\n",
       "      <td>1</td>\n",
       "      <td>0</td>\n",
       "      <td>1</td>\n",
       "      <td>1800000</td>\n",
       "      <td>800000</td>\n",
       "      <td>2600000</td>\n",
       "      <td>1600000</td>\n",
       "    </tr>\n",
       "  </tbody>\n",
       "</table>\n",
       "</div>"
      ],
      "text/plain": [
       "   Age  Profession  Marrital Status  Education  No of Dependents  \\\n",
       "0   27           1                1          1                 0   \n",
       "1   35           1                0          1                 2   \n",
       "2   45           0                0          0                 4   \n",
       "3   41           0                0          1                 3   \n",
       "4   31           1                0          1                 2   \n",
       "\n",
       "   Personal loan  House Loan  Wife Working   Salary  Wife Salary  \\\n",
       "0              1           0             0   800000            0   \n",
       "1              1           1             1  1400000       600000   \n",
       "2              1           1             0  1800000            0   \n",
       "3              0           0             1  1600000       600000   \n",
       "4              1           0             1  1800000       800000   \n",
       "\n",
       "   Total Salary    Price  \n",
       "0        800000   800000  \n",
       "1       2000000  1000000  \n",
       "2       1800000  1200000  \n",
       "3       2200000  1200000  \n",
       "4       2600000  1600000  "
      ]
     },
     "execution_count": 55,
     "metadata": {},
     "output_type": "execute_result"
    }
   ],
   "source": [
    "data_price = df_Buying_Behave.drop('Make',axis=1)\n",
    "data_price.head()"
   ]
  },
  {
   "cell_type": "code",
   "execution_count": 56,
   "id": "7847623b-4527-4b32-ad60-0b70730a655c",
   "metadata": {},
   "outputs": [
    {
     "data": {
      "text/html": [
       "<div>\n",
       "<style scoped>\n",
       "    .dataframe tbody tr th:only-of-type {\n",
       "        vertical-align: middle;\n",
       "    }\n",
       "\n",
       "    .dataframe tbody tr th {\n",
       "        vertical-align: top;\n",
       "    }\n",
       "\n",
       "    .dataframe thead th {\n",
       "        text-align: right;\n",
       "    }\n",
       "</style>\n",
       "<table border=\"1\" class=\"dataframe\">\n",
       "  <thead>\n",
       "    <tr style=\"text-align: right;\">\n",
       "      <th></th>\n",
       "      <th>Age</th>\n",
       "      <th>Profession</th>\n",
       "      <th>Marrital Status</th>\n",
       "      <th>Education</th>\n",
       "      <th>No of Dependents</th>\n",
       "      <th>Personal loan</th>\n",
       "      <th>House Loan</th>\n",
       "      <th>Wife Working</th>\n",
       "      <th>Salary</th>\n",
       "      <th>Wife Salary</th>\n",
       "      <th>Total Salary</th>\n",
       "      <th>Make</th>\n",
       "    </tr>\n",
       "  </thead>\n",
       "  <tbody>\n",
       "    <tr>\n",
       "      <th>0</th>\n",
       "      <td>27</td>\n",
       "      <td>1</td>\n",
       "      <td>1</td>\n",
       "      <td>1</td>\n",
       "      <td>0</td>\n",
       "      <td>1</td>\n",
       "      <td>0</td>\n",
       "      <td>0</td>\n",
       "      <td>800000</td>\n",
       "      <td>0</td>\n",
       "      <td>800000</td>\n",
       "      <td>i20</td>\n",
       "    </tr>\n",
       "    <tr>\n",
       "      <th>1</th>\n",
       "      <td>35</td>\n",
       "      <td>1</td>\n",
       "      <td>0</td>\n",
       "      <td>1</td>\n",
       "      <td>2</td>\n",
       "      <td>1</td>\n",
       "      <td>1</td>\n",
       "      <td>1</td>\n",
       "      <td>1400000</td>\n",
       "      <td>600000</td>\n",
       "      <td>2000000</td>\n",
       "      <td>Ciaz</td>\n",
       "    </tr>\n",
       "    <tr>\n",
       "      <th>2</th>\n",
       "      <td>45</td>\n",
       "      <td>0</td>\n",
       "      <td>0</td>\n",
       "      <td>0</td>\n",
       "      <td>4</td>\n",
       "      <td>1</td>\n",
       "      <td>1</td>\n",
       "      <td>0</td>\n",
       "      <td>1800000</td>\n",
       "      <td>0</td>\n",
       "      <td>1800000</td>\n",
       "      <td>Duster</td>\n",
       "    </tr>\n",
       "    <tr>\n",
       "      <th>3</th>\n",
       "      <td>41</td>\n",
       "      <td>0</td>\n",
       "      <td>0</td>\n",
       "      <td>1</td>\n",
       "      <td>3</td>\n",
       "      <td>0</td>\n",
       "      <td>0</td>\n",
       "      <td>1</td>\n",
       "      <td>1600000</td>\n",
       "      <td>600000</td>\n",
       "      <td>2200000</td>\n",
       "      <td>City</td>\n",
       "    </tr>\n",
       "    <tr>\n",
       "      <th>4</th>\n",
       "      <td>31</td>\n",
       "      <td>1</td>\n",
       "      <td>0</td>\n",
       "      <td>1</td>\n",
       "      <td>2</td>\n",
       "      <td>1</td>\n",
       "      <td>0</td>\n",
       "      <td>1</td>\n",
       "      <td>1800000</td>\n",
       "      <td>800000</td>\n",
       "      <td>2600000</td>\n",
       "      <td>SUV</td>\n",
       "    </tr>\n",
       "  </tbody>\n",
       "</table>\n",
       "</div>"
      ],
      "text/plain": [
       "   Age  Profession  Marrital Status  Education  No of Dependents  \\\n",
       "0   27           1                1          1                 0   \n",
       "1   35           1                0          1                 2   \n",
       "2   45           0                0          0                 4   \n",
       "3   41           0                0          1                 3   \n",
       "4   31           1                0          1                 2   \n",
       "\n",
       "   Personal loan  House Loan  Wife Working   Salary  Wife Salary  \\\n",
       "0              1           0             0   800000            0   \n",
       "1              1           1             1  1400000       600000   \n",
       "2              1           1             0  1800000            0   \n",
       "3              0           0             1  1600000       600000   \n",
       "4              1           0             1  1800000       800000   \n",
       "\n",
       "   Total Salary    Make  \n",
       "0        800000     i20  \n",
       "1       2000000    Ciaz  \n",
       "2       1800000  Duster  \n",
       "3       2200000    City  \n",
       "4       2600000     SUV  "
      ]
     },
     "execution_count": 56,
     "metadata": {},
     "output_type": "execute_result"
    }
   ],
   "source": [
    "data_car = df_Buying_Behave.drop('Price',axis=1)\n",
    "data_car.head()"
   ]
  },
  {
   "cell_type": "code",
   "execution_count": 57,
   "id": "dadc6d29-4f51-4896-a100-a604de291fe7",
   "metadata": {},
   "outputs": [
    {
     "data": {
      "text/html": [
       "<div>\n",
       "<style scoped>\n",
       "    .dataframe tbody tr th:only-of-type {\n",
       "        vertical-align: middle;\n",
       "    }\n",
       "\n",
       "    .dataframe tbody tr th {\n",
       "        vertical-align: top;\n",
       "    }\n",
       "\n",
       "    .dataframe thead th {\n",
       "        text-align: right;\n",
       "    }\n",
       "</style>\n",
       "<table border=\"1\" class=\"dataframe\">\n",
       "  <thead>\n",
       "    <tr style=\"text-align: right;\">\n",
       "      <th></th>\n",
       "      <th>Age</th>\n",
       "      <th>Profession</th>\n",
       "      <th>Marrital Status</th>\n",
       "      <th>Education</th>\n",
       "      <th>No of Dependents</th>\n",
       "      <th>Personal loan</th>\n",
       "      <th>House Loan</th>\n",
       "      <th>Wife Working</th>\n",
       "      <th>Salary</th>\n",
       "      <th>Wife Salary</th>\n",
       "      <th>Total Salary</th>\n",
       "      <th>Make</th>\n",
       "    </tr>\n",
       "  </thead>\n",
       "  <tbody>\n",
       "    <tr>\n",
       "      <th>0</th>\n",
       "      <td>27</td>\n",
       "      <td>1</td>\n",
       "      <td>1</td>\n",
       "      <td>1</td>\n",
       "      <td>0</td>\n",
       "      <td>1</td>\n",
       "      <td>0</td>\n",
       "      <td>0</td>\n",
       "      <td>800000</td>\n",
       "      <td>0</td>\n",
       "      <td>800000</td>\n",
       "      <td>8</td>\n",
       "    </tr>\n",
       "    <tr>\n",
       "      <th>1</th>\n",
       "      <td>35</td>\n",
       "      <td>1</td>\n",
       "      <td>0</td>\n",
       "      <td>1</td>\n",
       "      <td>2</td>\n",
       "      <td>1</td>\n",
       "      <td>1</td>\n",
       "      <td>1</td>\n",
       "      <td>1400000</td>\n",
       "      <td>600000</td>\n",
       "      <td>2000000</td>\n",
       "      <td>1</td>\n",
       "    </tr>\n",
       "    <tr>\n",
       "      <th>2</th>\n",
       "      <td>45</td>\n",
       "      <td>0</td>\n",
       "      <td>0</td>\n",
       "      <td>0</td>\n",
       "      <td>4</td>\n",
       "      <td>1</td>\n",
       "      <td>1</td>\n",
       "      <td>0</td>\n",
       "      <td>1800000</td>\n",
       "      <td>0</td>\n",
       "      <td>1800000</td>\n",
       "      <td>4</td>\n",
       "    </tr>\n",
       "    <tr>\n",
       "      <th>3</th>\n",
       "      <td>41</td>\n",
       "      <td>0</td>\n",
       "      <td>0</td>\n",
       "      <td>1</td>\n",
       "      <td>3</td>\n",
       "      <td>0</td>\n",
       "      <td>0</td>\n",
       "      <td>1</td>\n",
       "      <td>1600000</td>\n",
       "      <td>600000</td>\n",
       "      <td>2200000</td>\n",
       "      <td>2</td>\n",
       "    </tr>\n",
       "    <tr>\n",
       "      <th>4</th>\n",
       "      <td>31</td>\n",
       "      <td>1</td>\n",
       "      <td>0</td>\n",
       "      <td>1</td>\n",
       "      <td>2</td>\n",
       "      <td>1</td>\n",
       "      <td>0</td>\n",
       "      <td>1</td>\n",
       "      <td>1800000</td>\n",
       "      <td>800000</td>\n",
       "      <td>2600000</td>\n",
       "      <td>6</td>\n",
       "    </tr>\n",
       "  </tbody>\n",
       "</table>\n",
       "</div>"
      ],
      "text/plain": [
       "   Age  Profession  Marrital Status  Education  No of Dependents  \\\n",
       "0   27           1                1          1                 0   \n",
       "1   35           1                0          1                 2   \n",
       "2   45           0                0          0                 4   \n",
       "3   41           0                0          1                 3   \n",
       "4   31           1                0          1                 2   \n",
       "\n",
       "   Personal loan  House Loan  Wife Working   Salary  Wife Salary  \\\n",
       "0              1           0             0   800000            0   \n",
       "1              1           1             1  1400000       600000   \n",
       "2              1           1             0  1800000            0   \n",
       "3              0           0             1  1600000       600000   \n",
       "4              1           0             1  1800000       800000   \n",
       "\n",
       "   Total Salary  Make  \n",
       "0        800000     8  \n",
       "1       2000000     1  \n",
       "2       1800000     4  \n",
       "3       2200000     2  \n",
       "4       2600000     6  "
      ]
     },
     "execution_count": 57,
     "metadata": {},
     "output_type": "execute_result"
    }
   ],
   "source": [
    "le = LabelEncoder()\n",
    "data_car.Make = le.fit_transform(data_car.Make)\n",
    "data_car.head()"
   ]
  },
  {
   "cell_type": "code",
   "execution_count": 58,
   "id": "1037946c-f1a3-4c57-aded-098404ba1322",
   "metadata": {},
   "outputs": [
    {
     "data": {
      "text/plain": [
       "0    19\n",
       "6    19\n",
       "3    14\n",
       "1    12\n",
       "8    12\n",
       "2    10\n",
       "4     7\n",
       "7     4\n",
       "5     2\n",
       "Name: Make, dtype: int64"
      ]
     },
     "execution_count": 58,
     "metadata": {},
     "output_type": "execute_result"
    }
   ],
   "source": [
    "data_car['Make'].value_counts()"
   ]
  },
  {
   "cell_type": "markdown",
   "id": "da04be1c-7468-4d23-8d34-4b8c8a5cac42",
   "metadata": {},
   "source": [
    "## Clustering According to the price of the vehicle owned"
   ]
  },
  {
   "cell_type": "code",
   "execution_count": 59,
   "id": "10317da1-2311-4dff-92e5-824fd34646de",
   "metadata": {},
   "outputs": [
    {
     "data": {
      "text/plain": [
       "['Age',\n",
       " 'Profession',\n",
       " 'Marrital Status',\n",
       " 'Education',\n",
       " 'No of Dependents',\n",
       " 'Personal loan',\n",
       " 'House Loan',\n",
       " 'Wife Working',\n",
       " 'Salary',\n",
       " 'Wife Salary',\n",
       " 'Total Salary',\n",
       " 'Price']"
      ]
     },
     "execution_count": 59,
     "metadata": {},
     "output_type": "execute_result"
    }
   ],
   "source": [
    "features = list(data_price.columns)\n",
    "features"
   ]
  },
  {
   "cell_type": "code",
   "execution_count": 60,
   "id": "0bb938dd-8b39-4ec2-9ca4-f65e6bf2ad80",
   "metadata": {},
   "outputs": [
    {
     "data": {
      "text/html": [
       "<div>\n",
       "<style scoped>\n",
       "    .dataframe tbody tr th:only-of-type {\n",
       "        vertical-align: middle;\n",
       "    }\n",
       "\n",
       "    .dataframe tbody tr th {\n",
       "        vertical-align: top;\n",
       "    }\n",
       "\n",
       "    .dataframe thead th {\n",
       "        text-align: right;\n",
       "    }\n",
       "</style>\n",
       "<table border=\"1\" class=\"dataframe\">\n",
       "  <thead>\n",
       "    <tr style=\"text-align: right;\">\n",
       "      <th></th>\n",
       "      <th>Age</th>\n",
       "      <th>Profession</th>\n",
       "      <th>Marrital Status</th>\n",
       "      <th>Education</th>\n",
       "      <th>No of Dependents</th>\n",
       "      <th>Personal loan</th>\n",
       "      <th>House Loan</th>\n",
       "      <th>Wife Working</th>\n",
       "      <th>Salary</th>\n",
       "      <th>Wife Salary</th>\n",
       "      <th>Total Salary</th>\n",
       "      <th>Price</th>\n",
       "    </tr>\n",
       "  </thead>\n",
       "  <tbody>\n",
       "    <tr>\n",
       "      <th>0</th>\n",
       "      <td>27</td>\n",
       "      <td>1</td>\n",
       "      <td>1</td>\n",
       "      <td>1</td>\n",
       "      <td>0</td>\n",
       "      <td>1</td>\n",
       "      <td>0</td>\n",
       "      <td>0</td>\n",
       "      <td>800000</td>\n",
       "      <td>0</td>\n",
       "      <td>800000</td>\n",
       "      <td>800000</td>\n",
       "    </tr>\n",
       "    <tr>\n",
       "      <th>1</th>\n",
       "      <td>35</td>\n",
       "      <td>1</td>\n",
       "      <td>0</td>\n",
       "      <td>1</td>\n",
       "      <td>2</td>\n",
       "      <td>1</td>\n",
       "      <td>1</td>\n",
       "      <td>1</td>\n",
       "      <td>1400000</td>\n",
       "      <td>600000</td>\n",
       "      <td>2000000</td>\n",
       "      <td>1000000</td>\n",
       "    </tr>\n",
       "    <tr>\n",
       "      <th>2</th>\n",
       "      <td>45</td>\n",
       "      <td>0</td>\n",
       "      <td>0</td>\n",
       "      <td>0</td>\n",
       "      <td>4</td>\n",
       "      <td>1</td>\n",
       "      <td>1</td>\n",
       "      <td>0</td>\n",
       "      <td>1800000</td>\n",
       "      <td>0</td>\n",
       "      <td>1800000</td>\n",
       "      <td>1200000</td>\n",
       "    </tr>\n",
       "    <tr>\n",
       "      <th>3</th>\n",
       "      <td>41</td>\n",
       "      <td>0</td>\n",
       "      <td>0</td>\n",
       "      <td>1</td>\n",
       "      <td>3</td>\n",
       "      <td>0</td>\n",
       "      <td>0</td>\n",
       "      <td>1</td>\n",
       "      <td>1600000</td>\n",
       "      <td>600000</td>\n",
       "      <td>2200000</td>\n",
       "      <td>1200000</td>\n",
       "    </tr>\n",
       "    <tr>\n",
       "      <th>4</th>\n",
       "      <td>31</td>\n",
       "      <td>1</td>\n",
       "      <td>0</td>\n",
       "      <td>1</td>\n",
       "      <td>2</td>\n",
       "      <td>1</td>\n",
       "      <td>0</td>\n",
       "      <td>1</td>\n",
       "      <td>1800000</td>\n",
       "      <td>800000</td>\n",
       "      <td>2600000</td>\n",
       "      <td>1600000</td>\n",
       "    </tr>\n",
       "  </tbody>\n",
       "</table>\n",
       "</div>"
      ],
      "text/plain": [
       "   Age  Profession  Marrital Status  Education  No of Dependents  \\\n",
       "0   27           1                1          1                 0   \n",
       "1   35           1                0          1                 2   \n",
       "2   45           0                0          0                 4   \n",
       "3   41           0                0          1                 3   \n",
       "4   31           1                0          1                 2   \n",
       "\n",
       "   Personal loan  House Loan  Wife Working   Salary  Wife Salary  \\\n",
       "0              1           0             0   800000            0   \n",
       "1              1           1             1  1400000       600000   \n",
       "2              1           1             0  1800000            0   \n",
       "3              0           0             1  1600000       600000   \n",
       "4              1           0             1  1800000       800000   \n",
       "\n",
       "   Total Salary    Price  \n",
       "0        800000   800000  \n",
       "1       2000000  1000000  \n",
       "2       1800000  1200000  \n",
       "3       2200000  1200000  \n",
       "4       2600000  1600000  "
      ]
     },
     "execution_count": 60,
     "metadata": {},
     "output_type": "execute_result"
    }
   ],
   "source": [
    "d = data_price[features]\n",
    "d.head()"
   ]
  },
  {
   "cell_type": "code",
   "execution_count": 61,
   "id": "bb867320-f23d-4684-8e90-b4aed6458e08",
   "metadata": {},
   "outputs": [],
   "source": [
    "# Randomly set k as 2.\n",
    "from sklearn.cluster import KMeans"
   ]
  },
  {
   "cell_type": "code",
   "execution_count": null,
   "id": "d286d9c3-0a9b-4255-ba86-82df9af43549",
   "metadata": {},
   "outputs": [],
   "source": []
  },
  {
   "cell_type": "code",
   "execution_count": 62,
   "id": "4f6f6557-1a1c-4fff-a802-4dbc75bbfb01",
   "metadata": {},
   "outputs": [
    {
     "data": {
      "text/html": [
       "<div>\n",
       "<style scoped>\n",
       "    .dataframe tbody tr th:only-of-type {\n",
       "        vertical-align: middle;\n",
       "    }\n",
       "\n",
       "    .dataframe tbody tr th {\n",
       "        vertical-align: top;\n",
       "    }\n",
       "\n",
       "    .dataframe thead th {\n",
       "        text-align: right;\n",
       "    }\n",
       "</style>\n",
       "<table border=\"1\" class=\"dataframe\">\n",
       "  <thead>\n",
       "    <tr style=\"text-align: right;\">\n",
       "      <th></th>\n",
       "      <th>Age</th>\n",
       "      <th>Profession</th>\n",
       "      <th>Marrital Status</th>\n",
       "      <th>Education</th>\n",
       "      <th>No of Dependents</th>\n",
       "      <th>Personal loan</th>\n",
       "      <th>House Loan</th>\n",
       "      <th>Wife Working</th>\n",
       "      <th>Salary</th>\n",
       "      <th>Wife Salary</th>\n",
       "      <th>Total Salary</th>\n",
       "      <th>Price</th>\n",
       "      <th>clusters</th>\n",
       "    </tr>\n",
       "  </thead>\n",
       "  <tbody>\n",
       "    <tr>\n",
       "      <th>0</th>\n",
       "      <td>27</td>\n",
       "      <td>1</td>\n",
       "      <td>1</td>\n",
       "      <td>1</td>\n",
       "      <td>0</td>\n",
       "      <td>1</td>\n",
       "      <td>0</td>\n",
       "      <td>0</td>\n",
       "      <td>800000</td>\n",
       "      <td>0</td>\n",
       "      <td>800000</td>\n",
       "      <td>800000</td>\n",
       "      <td>0</td>\n",
       "    </tr>\n",
       "    <tr>\n",
       "      <th>1</th>\n",
       "      <td>35</td>\n",
       "      <td>1</td>\n",
       "      <td>0</td>\n",
       "      <td>1</td>\n",
       "      <td>2</td>\n",
       "      <td>1</td>\n",
       "      <td>1</td>\n",
       "      <td>1</td>\n",
       "      <td>1400000</td>\n",
       "      <td>600000</td>\n",
       "      <td>2000000</td>\n",
       "      <td>1000000</td>\n",
       "      <td>0</td>\n",
       "    </tr>\n",
       "    <tr>\n",
       "      <th>2</th>\n",
       "      <td>45</td>\n",
       "      <td>0</td>\n",
       "      <td>0</td>\n",
       "      <td>0</td>\n",
       "      <td>4</td>\n",
       "      <td>1</td>\n",
       "      <td>1</td>\n",
       "      <td>0</td>\n",
       "      <td>1800000</td>\n",
       "      <td>0</td>\n",
       "      <td>1800000</td>\n",
       "      <td>1200000</td>\n",
       "      <td>0</td>\n",
       "    </tr>\n",
       "    <tr>\n",
       "      <th>3</th>\n",
       "      <td>41</td>\n",
       "      <td>0</td>\n",
       "      <td>0</td>\n",
       "      <td>1</td>\n",
       "      <td>3</td>\n",
       "      <td>0</td>\n",
       "      <td>0</td>\n",
       "      <td>1</td>\n",
       "      <td>1600000</td>\n",
       "      <td>600000</td>\n",
       "      <td>2200000</td>\n",
       "      <td>1200000</td>\n",
       "      <td>0</td>\n",
       "    </tr>\n",
       "    <tr>\n",
       "      <th>4</th>\n",
       "      <td>31</td>\n",
       "      <td>1</td>\n",
       "      <td>0</td>\n",
       "      <td>1</td>\n",
       "      <td>2</td>\n",
       "      <td>1</td>\n",
       "      <td>0</td>\n",
       "      <td>1</td>\n",
       "      <td>1800000</td>\n",
       "      <td>800000</td>\n",
       "      <td>2600000</td>\n",
       "      <td>1600000</td>\n",
       "      <td>0</td>\n",
       "    </tr>\n",
       "  </tbody>\n",
       "</table>\n",
       "</div>"
      ],
      "text/plain": [
       "   Age  Profession  Marrital Status  Education  No of Dependents  \\\n",
       "0   27           1                1          1                 0   \n",
       "1   35           1                0          1                 2   \n",
       "2   45           0                0          0                 4   \n",
       "3   41           0                0          1                 3   \n",
       "4   31           1                0          1                 2   \n",
       "\n",
       "   Personal loan  House Loan  Wife Working   Salary  Wife Salary  \\\n",
       "0              1           0             0   800000            0   \n",
       "1              1           1             1  1400000       600000   \n",
       "2              1           1             0  1800000            0   \n",
       "3              0           0             1  1600000       600000   \n",
       "4              1           0             1  1800000       800000   \n",
       "\n",
       "   Total Salary    Price  clusters  \n",
       "0        800000   800000         0  \n",
       "1       2000000  1000000         0  \n",
       "2       1800000  1200000         0  \n",
       "3       2200000  1200000         0  \n",
       "4       2600000  1600000         0  "
      ]
     },
     "execution_count": 62,
     "metadata": {},
     "output_type": "execute_result"
    }
   ],
   "source": [
    "clustering_kmeans = KMeans(n_clusters=2)\n",
    "d['clusters'] = clustering_kmeans.fit_predict(d)\n",
    "d.head()"
   ]
  },
  {
   "cell_type": "code",
   "execution_count": 63,
   "id": "5c1db083-e705-4d28-bde3-b949d1d1c345",
   "metadata": {},
   "outputs": [
    {
     "data": {
      "text/plain": [
       "0    74\n",
       "1    25\n",
       "Name: clusters, dtype: int64"
      ]
     },
     "execution_count": 63,
     "metadata": {},
     "output_type": "execute_result"
    }
   ],
   "source": [
    "d['clusters'].value_counts()"
   ]
  },
  {
   "cell_type": "code",
   "execution_count": 64,
   "id": "a50c6e52-164f-4149-b03b-bbd7644dd7c4",
   "metadata": {},
   "outputs": [
    {
     "data": {
      "image/png": "[encoded data removed]",
      "text/plain": [
       "<Figure size 360x360 with 1 Axes>"
      ]
     },
     "metadata": {
      "needs_background": "light"
     },
     "output_type": "display_data"
    }
   ],
   "source": [
    "d0 = d[d.clusters==0]\n",
    "d1 = d[d.clusters==1]\n",
    "\n",
    "plt.scatter(d0.Price, d0['Total Salary'],color='red')\n",
    "plt.scatter(d1.Price, d1['Total Salary'],color='green')\n",
    "\n",
    "plt.xlabel('Price')\n",
    "plt.ylabel('Total salary')\n",
    "plt.show()"
   ]
  },
  {
   "cell_type": "code",
   "execution_count": 65,
   "id": "34267731-5557-44dd-979d-8a46abe600a2",
   "metadata": {},
   "outputs": [],
   "source": [
    "# Scale the data using minmaxscaler"
   ]
  },
  {
   "cell_type": "code",
   "execution_count": 66,
   "id": "bdea699e-82d0-4caf-8db1-f43c8559b430",
   "metadata": {},
   "outputs": [],
   "source": [
    "from sklearn.preprocessing import MinMaxScaler\n",
    "\n",
    "x = d['Age'].values.reshape(-1, 1)\n",
    "scaler = MinMaxScaler()\n",
    "x_scaled = scaler.fit_transform(x)\n",
    "d['Age']= x_scaled\n",
    "\n",
    "x = d['Salary'].values.reshape(-1, 1)\n",
    "x_scaled = scaler.fit_transform(x)\n",
    "d['Salary']= x_scaled\n",
    "\n",
    "x = d['Wife Salary'].values.reshape(-1, 1)\n",
    "x_scaled = scaler.fit_transform(x)\n",
    "d['Wife Salary']= x_scaled\n",
    "\n",
    "x = d['Total Salary'].values.reshape(-1, 1)\n",
    "x_scaled = scaler.fit_transform(x)\n",
    "d['Total Salary']= x_scaled\n",
    "\n",
    "x = d['Price'].values.reshape(-1, 1)\n",
    "x_scaled = scaler.fit_transform(x)\n",
    "d['Price']= x_scaled\n"
   ]
  },
  {
   "cell_type": "code",
   "execution_count": 67,
   "id": "c64da33e-17f9-46ec-9d2d-acd8314b85b4",
   "metadata": {},
   "outputs": [
    {
     "data": {
      "text/html": [
       "<div>\n",
       "<style scoped>\n",
       "    .dataframe tbody tr th:only-of-type {\n",
       "        vertical-align: middle;\n",
       "    }\n",
       "\n",
       "    .dataframe tbody tr th {\n",
       "        vertical-align: top;\n",
       "    }\n",
       "\n",
       "    .dataframe thead th {\n",
       "        text-align: right;\n",
       "    }\n",
       "</style>\n",
       "<table border=\"1\" class=\"dataframe\">\n",
       "  <thead>\n",
       "    <tr style=\"text-align: right;\">\n",
       "      <th></th>\n",
       "      <th>Age</th>\n",
       "      <th>Profession</th>\n",
       "      <th>Marrital Status</th>\n",
       "      <th>Education</th>\n",
       "      <th>No of Dependents</th>\n",
       "      <th>Personal loan</th>\n",
       "      <th>House Loan</th>\n",
       "      <th>Wife Working</th>\n",
       "      <th>Salary</th>\n",
       "      <th>Wife Salary</th>\n",
       "      <th>Total Salary</th>\n",
       "      <th>Price</th>\n",
       "      <th>clusters</th>\n",
       "    </tr>\n",
       "  </thead>\n",
       "  <tbody>\n",
       "    <tr>\n",
       "      <th>0</th>\n",
       "      <td>0.04</td>\n",
       "      <td>1</td>\n",
       "      <td>1</td>\n",
       "      <td>1</td>\n",
       "      <td>0</td>\n",
       "      <td>1</td>\n",
       "      <td>0</td>\n",
       "      <td>0</td>\n",
       "      <td>0.166667</td>\n",
       "      <td>0.000000</td>\n",
       "      <td>0.12</td>\n",
       "      <td>0.238754</td>\n",
       "      <td>1</td>\n",
       "    </tr>\n",
       "    <tr>\n",
       "      <th>1</th>\n",
       "      <td>0.36</td>\n",
       "      <td>1</td>\n",
       "      <td>0</td>\n",
       "      <td>1</td>\n",
       "      <td>2</td>\n",
       "      <td>1</td>\n",
       "      <td>1</td>\n",
       "      <td>1</td>\n",
       "      <td>0.333333</td>\n",
       "      <td>0.285714</td>\n",
       "      <td>0.36</td>\n",
       "      <td>0.307958</td>\n",
       "      <td>0</td>\n",
       "    </tr>\n",
       "    <tr>\n",
       "      <th>2</th>\n",
       "      <td>0.76</td>\n",
       "      <td>0</td>\n",
       "      <td>0</td>\n",
       "      <td>0</td>\n",
       "      <td>4</td>\n",
       "      <td>1</td>\n",
       "      <td>1</td>\n",
       "      <td>0</td>\n",
       "      <td>0.444444</td>\n",
       "      <td>0.000000</td>\n",
       "      <td>0.32</td>\n",
       "      <td>0.377163</td>\n",
       "      <td>0</td>\n",
       "    </tr>\n",
       "    <tr>\n",
       "      <th>3</th>\n",
       "      <td>0.60</td>\n",
       "      <td>0</td>\n",
       "      <td>0</td>\n",
       "      <td>1</td>\n",
       "      <td>3</td>\n",
       "      <td>0</td>\n",
       "      <td>0</td>\n",
       "      <td>1</td>\n",
       "      <td>0.388889</td>\n",
       "      <td>0.285714</td>\n",
       "      <td>0.40</td>\n",
       "      <td>0.377163</td>\n",
       "      <td>0</td>\n",
       "    </tr>\n",
       "    <tr>\n",
       "      <th>4</th>\n",
       "      <td>0.20</td>\n",
       "      <td>1</td>\n",
       "      <td>0</td>\n",
       "      <td>1</td>\n",
       "      <td>2</td>\n",
       "      <td>1</td>\n",
       "      <td>0</td>\n",
       "      <td>1</td>\n",
       "      <td>0.444444</td>\n",
       "      <td>0.380952</td>\n",
       "      <td>0.48</td>\n",
       "      <td>0.515571</td>\n",
       "      <td>0</td>\n",
       "    </tr>\n",
       "    <tr>\n",
       "      <th>...</th>\n",
       "      <td>...</td>\n",
       "      <td>...</td>\n",
       "      <td>...</td>\n",
       "      <td>...</td>\n",
       "      <td>...</td>\n",
       "      <td>...</td>\n",
       "      <td>...</td>\n",
       "      <td>...</td>\n",
       "      <td>...</td>\n",
       "      <td>...</td>\n",
       "      <td>...</td>\n",
       "      <td>...</td>\n",
       "      <td>...</td>\n",
       "    </tr>\n",
       "    <tr>\n",
       "      <th>94</th>\n",
       "      <td>0.04</td>\n",
       "      <td>0</td>\n",
       "      <td>1</td>\n",
       "      <td>0</td>\n",
       "      <td>0</td>\n",
       "      <td>0</td>\n",
       "      <td>0</td>\n",
       "      <td>0</td>\n",
       "      <td>0.611111</td>\n",
       "      <td>0.000000</td>\n",
       "      <td>0.44</td>\n",
       "      <td>0.515571</td>\n",
       "      <td>1</td>\n",
       "    </tr>\n",
       "    <tr>\n",
       "      <th>95</th>\n",
       "      <td>0.96</td>\n",
       "      <td>1</td>\n",
       "      <td>0</td>\n",
       "      <td>1</td>\n",
       "      <td>3</td>\n",
       "      <td>0</td>\n",
       "      <td>0</td>\n",
       "      <td>1</td>\n",
       "      <td>1.000000</td>\n",
       "      <td>0.619048</td>\n",
       "      <td>0.98</td>\n",
       "      <td>0.515571</td>\n",
       "      <td>0</td>\n",
       "    </tr>\n",
       "    <tr>\n",
       "      <th>96</th>\n",
       "      <td>1.00</td>\n",
       "      <td>0</td>\n",
       "      <td>0</td>\n",
       "      <td>0</td>\n",
       "      <td>2</td>\n",
       "      <td>1</td>\n",
       "      <td>1</td>\n",
       "      <td>0</td>\n",
       "      <td>0.555556</td>\n",
       "      <td>0.000000</td>\n",
       "      <td>0.40</td>\n",
       "      <td>0.342561</td>\n",
       "      <td>0</td>\n",
       "    </tr>\n",
       "    <tr>\n",
       "      <th>97</th>\n",
       "      <td>1.00</td>\n",
       "      <td>1</td>\n",
       "      <td>0</td>\n",
       "      <td>1</td>\n",
       "      <td>2</td>\n",
       "      <td>0</td>\n",
       "      <td>0</td>\n",
       "      <td>1</td>\n",
       "      <td>0.694444</td>\n",
       "      <td>0.619048</td>\n",
       "      <td>0.76</td>\n",
       "      <td>0.480969</td>\n",
       "      <td>0</td>\n",
       "    </tr>\n",
       "    <tr>\n",
       "      <th>98</th>\n",
       "      <td>1.00</td>\n",
       "      <td>1</td>\n",
       "      <td>0</td>\n",
       "      <td>1</td>\n",
       "      <td>2</td>\n",
       "      <td>1</td>\n",
       "      <td>1</td>\n",
       "      <td>0</td>\n",
       "      <td>0.555556</td>\n",
       "      <td>0.000000</td>\n",
       "      <td>0.40</td>\n",
       "      <td>0.342561</td>\n",
       "      <td>0</td>\n",
       "    </tr>\n",
       "  </tbody>\n",
       "</table>\n",
       "<p>99 rows × 13 columns</p>\n",
       "</div>"
      ],
      "text/plain": [
       "     Age  Profession  Marrital Status  Education  No of Dependents  \\\n",
       "0   0.04           1                1          1                 0   \n",
       "1   0.36           1                0          1                 2   \n",
       "2   0.76           0                0          0                 4   \n",
       "3   0.60           0                0          1                 3   \n",
       "4   0.20           1                0          1                 2   \n",
       "..   ...         ...              ...        ...               ...   \n",
       "94  0.04           0                1          0                 0   \n",
       "95  0.96           1                0          1                 3   \n",
       "96  1.00           0                0          0                 2   \n",
       "97  1.00           1                0          1                 2   \n",
       "98  1.00           1                0          1                 2   \n",
       "\n",
       "    Personal loan  House Loan  Wife Working    Salary  Wife Salary  \\\n",
       "0               1           0             0  0.166667     0.000000   \n",
       "1               1           1             1  0.333333     0.285714   \n",
       "2               1           1             0  0.444444     0.000000   \n",
       "3               0           0             1  0.388889     0.285714   \n",
       "4               1           0             1  0.444444     0.380952   \n",
       "..            ...         ...           ...       ...          ...   \n",
       "94              0           0             0  0.611111     0.000000   \n",
       "95              0           0             1  1.000000     0.619048   \n",
       "96              1           1             0  0.555556     0.000000   \n",
       "97              0           0             1  0.694444     0.619048   \n",
       "98              1           1             0  0.555556     0.000000   \n",
       "\n",
       "    Total Salary     Price  clusters  \n",
       "0           0.12  0.238754         1  \n",
       "1           0.36  0.307958         0  \n",
       "2           0.32  0.377163         0  \n",
       "3           0.40  0.377163         0  \n",
       "4           0.48  0.515571         0  \n",
       "..           ...       ...       ...  \n",
       "94          0.44  0.515571         1  \n",
       "95          0.98  0.515571         0  \n",
       "96          0.40  0.342561         0  \n",
       "97          0.76  0.480969         0  \n",
       "98          0.40  0.342561         0  \n",
       "\n",
       "[99 rows x 13 columns]"
      ]
     },
     "execution_count": 67,
     "metadata": {},
     "output_type": "execute_result"
    }
   ],
   "source": [
    "d['clusters'] = clustering_kmeans.fit_predict(d) \n",
    "d"
   ]
  },
  {
   "cell_type": "code",
   "execution_count": 68,
   "id": "95e7dcc6-1c09-4323-92c5-d3baf77142f1",
   "metadata": {},
   "outputs": [],
   "source": [
    "# fitting clusters by K = 3"
   ]
  },
  {
   "cell_type": "code",
   "execution_count": 69,
   "id": "256e0378-1f74-4be5-89fa-1f65348732ed",
   "metadata": {},
   "outputs": [
    {
     "data": {
      "text/html": [
       "<div>\n",
       "<style scoped>\n",
       "    .dataframe tbody tr th:only-of-type {\n",
       "        vertical-align: middle;\n",
       "    }\n",
       "\n",
       "    .dataframe tbody tr th {\n",
       "        vertical-align: top;\n",
       "    }\n",
       "\n",
       "    .dataframe thead th {\n",
       "        text-align: right;\n",
       "    }\n",
       "</style>\n",
       "<table border=\"1\" class=\"dataframe\">\n",
       "  <thead>\n",
       "    <tr style=\"text-align: right;\">\n",
       "      <th></th>\n",
       "      <th>Age</th>\n",
       "      <th>Profession</th>\n",
       "      <th>Marrital Status</th>\n",
       "      <th>Education</th>\n",
       "      <th>No of Dependents</th>\n",
       "      <th>Personal loan</th>\n",
       "      <th>House Loan</th>\n",
       "      <th>Wife Working</th>\n",
       "      <th>Salary</th>\n",
       "      <th>Wife Salary</th>\n",
       "      <th>Total Salary</th>\n",
       "      <th>Price</th>\n",
       "      <th>clusters</th>\n",
       "    </tr>\n",
       "  </thead>\n",
       "  <tbody>\n",
       "    <tr>\n",
       "      <th>0</th>\n",
       "      <td>0.04</td>\n",
       "      <td>1</td>\n",
       "      <td>1</td>\n",
       "      <td>1</td>\n",
       "      <td>0</td>\n",
       "      <td>1</td>\n",
       "      <td>0</td>\n",
       "      <td>0</td>\n",
       "      <td>0.166667</td>\n",
       "      <td>0.000000</td>\n",
       "      <td>0.12</td>\n",
       "      <td>0.238754</td>\n",
       "      <td>1</td>\n",
       "    </tr>\n",
       "    <tr>\n",
       "      <th>1</th>\n",
       "      <td>0.36</td>\n",
       "      <td>1</td>\n",
       "      <td>0</td>\n",
       "      <td>1</td>\n",
       "      <td>2</td>\n",
       "      <td>1</td>\n",
       "      <td>1</td>\n",
       "      <td>1</td>\n",
       "      <td>0.333333</td>\n",
       "      <td>0.285714</td>\n",
       "      <td>0.36</td>\n",
       "      <td>0.307958</td>\n",
       "      <td>2</td>\n",
       "    </tr>\n",
       "    <tr>\n",
       "      <th>2</th>\n",
       "      <td>0.76</td>\n",
       "      <td>0</td>\n",
       "      <td>0</td>\n",
       "      <td>0</td>\n",
       "      <td>4</td>\n",
       "      <td>1</td>\n",
       "      <td>1</td>\n",
       "      <td>0</td>\n",
       "      <td>0.444444</td>\n",
       "      <td>0.000000</td>\n",
       "      <td>0.32</td>\n",
       "      <td>0.377163</td>\n",
       "      <td>0</td>\n",
       "    </tr>\n",
       "    <tr>\n",
       "      <th>3</th>\n",
       "      <td>0.60</td>\n",
       "      <td>0</td>\n",
       "      <td>0</td>\n",
       "      <td>1</td>\n",
       "      <td>3</td>\n",
       "      <td>0</td>\n",
       "      <td>0</td>\n",
       "      <td>1</td>\n",
       "      <td>0.388889</td>\n",
       "      <td>0.285714</td>\n",
       "      <td>0.40</td>\n",
       "      <td>0.377163</td>\n",
       "      <td>0</td>\n",
       "    </tr>\n",
       "    <tr>\n",
       "      <th>4</th>\n",
       "      <td>0.20</td>\n",
       "      <td>1</td>\n",
       "      <td>0</td>\n",
       "      <td>1</td>\n",
       "      <td>2</td>\n",
       "      <td>1</td>\n",
       "      <td>0</td>\n",
       "      <td>1</td>\n",
       "      <td>0.444444</td>\n",
       "      <td>0.380952</td>\n",
       "      <td>0.48</td>\n",
       "      <td>0.515571</td>\n",
       "      <td>2</td>\n",
       "    </tr>\n",
       "    <tr>\n",
       "      <th>...</th>\n",
       "      <td>...</td>\n",
       "      <td>...</td>\n",
       "      <td>...</td>\n",
       "      <td>...</td>\n",
       "      <td>...</td>\n",
       "      <td>...</td>\n",
       "      <td>...</td>\n",
       "      <td>...</td>\n",
       "      <td>...</td>\n",
       "      <td>...</td>\n",
       "      <td>...</td>\n",
       "      <td>...</td>\n",
       "      <td>...</td>\n",
       "    </tr>\n",
       "    <tr>\n",
       "      <th>94</th>\n",
       "      <td>0.04</td>\n",
       "      <td>0</td>\n",
       "      <td>1</td>\n",
       "      <td>0</td>\n",
       "      <td>0</td>\n",
       "      <td>0</td>\n",
       "      <td>0</td>\n",
       "      <td>0</td>\n",
       "      <td>0.611111</td>\n",
       "      <td>0.000000</td>\n",
       "      <td>0.44</td>\n",
       "      <td>0.515571</td>\n",
       "      <td>1</td>\n",
       "    </tr>\n",
       "    <tr>\n",
       "      <th>95</th>\n",
       "      <td>0.96</td>\n",
       "      <td>1</td>\n",
       "      <td>0</td>\n",
       "      <td>1</td>\n",
       "      <td>3</td>\n",
       "      <td>0</td>\n",
       "      <td>0</td>\n",
       "      <td>1</td>\n",
       "      <td>1.000000</td>\n",
       "      <td>0.619048</td>\n",
       "      <td>0.98</td>\n",
       "      <td>0.515571</td>\n",
       "      <td>0</td>\n",
       "    </tr>\n",
       "    <tr>\n",
       "      <th>96</th>\n",
       "      <td>1.00</td>\n",
       "      <td>0</td>\n",
       "      <td>0</td>\n",
       "      <td>0</td>\n",
       "      <td>2</td>\n",
       "      <td>1</td>\n",
       "      <td>1</td>\n",
       "      <td>0</td>\n",
       "      <td>0.555556</td>\n",
       "      <td>0.000000</td>\n",
       "      <td>0.40</td>\n",
       "      <td>0.342561</td>\n",
       "      <td>2</td>\n",
       "    </tr>\n",
       "    <tr>\n",
       "      <th>97</th>\n",
       "      <td>1.00</td>\n",
       "      <td>1</td>\n",
       "      <td>0</td>\n",
       "      <td>1</td>\n",
       "      <td>2</td>\n",
       "      <td>0</td>\n",
       "      <td>0</td>\n",
       "      <td>1</td>\n",
       "      <td>0.694444</td>\n",
       "      <td>0.619048</td>\n",
       "      <td>0.76</td>\n",
       "      <td>0.480969</td>\n",
       "      <td>2</td>\n",
       "    </tr>\n",
       "    <tr>\n",
       "      <th>98</th>\n",
       "      <td>1.00</td>\n",
       "      <td>1</td>\n",
       "      <td>0</td>\n",
       "      <td>1</td>\n",
       "      <td>2</td>\n",
       "      <td>1</td>\n",
       "      <td>1</td>\n",
       "      <td>0</td>\n",
       "      <td>0.555556</td>\n",
       "      <td>0.000000</td>\n",
       "      <td>0.40</td>\n",
       "      <td>0.342561</td>\n",
       "      <td>2</td>\n",
       "    </tr>\n",
       "  </tbody>\n",
       "</table>\n",
       "<p>99 rows × 13 columns</p>\n",
       "</div>"
      ],
      "text/plain": [
       "     Age  Profession  Marrital Status  Education  No of Dependents  \\\n",
       "0   0.04           1                1          1                 0   \n",
       "1   0.36           1                0          1                 2   \n",
       "2   0.76           0                0          0                 4   \n",
       "3   0.60           0                0          1                 3   \n",
       "4   0.20           1                0          1                 2   \n",
       "..   ...         ...              ...        ...               ...   \n",
       "94  0.04           0                1          0                 0   \n",
       "95  0.96           1                0          1                 3   \n",
       "96  1.00           0                0          0                 2   \n",
       "97  1.00           1                0          1                 2   \n",
       "98  1.00           1                0          1                 2   \n",
       "\n",
       "    Personal loan  House Loan  Wife Working    Salary  Wife Salary  \\\n",
       "0               1           0             0  0.166667     0.000000   \n",
       "1               1           1             1  0.333333     0.285714   \n",
       "2               1           1             0  0.444444     0.000000   \n",
       "3               0           0             1  0.388889     0.285714   \n",
       "4               1           0             1  0.444444     0.380952   \n",
       "..            ...         ...           ...       ...          ...   \n",
       "94              0           0             0  0.611111     0.000000   \n",
       "95              0           0             1  1.000000     0.619048   \n",
       "96              1           1             0  0.555556     0.000000   \n",
       "97              0           0             1  0.694444     0.619048   \n",
       "98              1           1             0  0.555556     0.000000   \n",
       "\n",
       "    Total Salary     Price  clusters  \n",
       "0           0.12  0.238754         1  \n",
       "1           0.36  0.307958         2  \n",
       "2           0.32  0.377163         0  \n",
       "3           0.40  0.377163         0  \n",
       "4           0.48  0.515571         2  \n",
       "..           ...       ...       ...  \n",
       "94          0.44  0.515571         1  \n",
       "95          0.98  0.515571         0  \n",
       "96          0.40  0.342561         2  \n",
       "97          0.76  0.480969         2  \n",
       "98          0.40  0.342561         2  \n",
       "\n",
       "[99 rows x 13 columns]"
      ]
     },
     "execution_count": 69,
     "metadata": {},
     "output_type": "execute_result"
    }
   ],
   "source": [
    "clustering_kmeans = KMeans(n_clusters=3)\n",
    "d['clusters'] = clustering_kmeans.fit_predict(d) \n",
    "d"
   ]
  },
  {
   "cell_type": "code",
   "execution_count": 70,
   "id": "2d8455f2-06f9-45ee-b3c8-693089f70c40",
   "metadata": {},
   "outputs": [
    {
     "data": {
      "text/plain": [
       "0    48\n",
       "2    29\n",
       "1    22\n",
       "Name: clusters, dtype: int64"
      ]
     },
     "execution_count": 70,
     "metadata": {},
     "output_type": "execute_result"
    }
   ],
   "source": [
    "d['clusters'].value_counts()"
   ]
  },
  {
   "cell_type": "code",
   "execution_count": 71,
   "id": "d0fee14d-30fe-4930-bef9-b0d7e9de2e14",
   "metadata": {},
   "outputs": [
    {
     "data": {
      "image/png": "[encoded data removed]",
      "text/plain": [
       "<Figure size 360x360 with 1 Axes>"
      ]
     },
     "metadata": {
      "needs_background": "light"
     },
     "output_type": "display_data"
    }
   ],
   "source": [
    "d0 = d[d.clusters==0]\n",
    "d1 = d[d.clusters==1]\n",
    "d2 = d[d.clusters==2]\n",
    "plt.scatter(d0.Price, d0['Total Salary'],color='red')\n",
    "plt.scatter(d1.Price, d1['Total Salary'],color='green')\n",
    "plt.scatter(d2.Price, d2['Total Salary'],color='yellow')\n",
    "\n",
    "plt.xlabel('Price')\n",
    "plt.ylabel('Total salary')\n",
    "plt.show()"
   ]
  },
  {
   "cell_type": "code",
   "execution_count": 72,
   "id": "651d48db-bc1c-4c78-820b-c7b213cf6a92",
   "metadata": {},
   "outputs": [
    {
     "data": {
      "text/plain": [
       "array([[ 5.01666667e-01,  5.83333333e-01,  8.32667268e-17,\n",
       "         5.41666667e-01,  3.29166667e+00,  3.95833333e-01,\n",
       "         4.58333333e-01,  5.20833333e-01,  4.49652778e-01,\n",
       "         2.50000000e-01,  4.28750000e-01,  3.69232987e-01,\n",
       "         1.66533454e-16],\n",
       "       [ 1.38181818e-01,  6.36363636e-01,  5.90909091e-01,\n",
       "         5.45454545e-01,  8.88178420e-16,  1.81818182e-01,\n",
       "        -5.55111512e-17,  4.09090909e-01,  2.89141414e-01,\n",
       "         1.34199134e-01,  2.64545455e-01,  3.34853728e-01,\n",
       "         1.00000000e+00],\n",
       "       [ 4.73103448e-01,  7.58620690e-01,  6.89655172e-02,\n",
       "         6.20689655e-01,  2.00000000e+00,  3.10344828e-01,\n",
       "         5.17241379e-01,  6.20689655e-01,  4.93295019e-01,\n",
       "         3.53037767e-01,  5.03448276e-01,  4.15344231e-01,\n",
       "        -8.32667268e-17]])"
      ]
     },
     "execution_count": 72,
     "metadata": {},
     "output_type": "execute_result"
    }
   ],
   "source": [
    "clustering_kmeans.cluster_centers_"
   ]
  },
  {
   "cell_type": "code",
   "execution_count": 73,
   "id": "ac335360-450b-43b6-b581-e4a85cd235ed",
   "metadata": {},
   "outputs": [],
   "source": [
    "k_range = range(1,10)\n",
    "#sum of squared error\n",
    "sse = []\n",
    "for k in k_range:\n",
    "  km = KMeans(n_clusters=k)\n",
    "  km.fit(d)\n",
    "  sse.append(km.inertia_)"
   ]
  },
  {
   "cell_type": "code",
   "execution_count": 74,
   "id": "98c5886e-4c84-4d02-91a3-a5e93e3d5924",
   "metadata": {},
   "outputs": [
    {
     "data": {
      "text/plain": [
       "[401.5432004812972,\n",
       " 221.3901623181555,\n",
       " 147.74296014452702,\n",
       " 128.0951676933242,\n",
       " 117.37943746020864,\n",
       " 106.59976836537415,\n",
       " 99.02067009479615,\n",
       " 89.922069041324,\n",
       " 86.37600632566429]"
      ]
     },
     "execution_count": 74,
     "metadata": {},
     "output_type": "execute_result"
    }
   ],
   "source": [
    "sse"
   ]
  },
  {
   "cell_type": "code",
   "execution_count": 75,
   "id": "80a010d0-cabc-4152-b6c6-9891cfb5e78e",
   "metadata": {},
   "outputs": [
    {
     "data": {
      "text/plain": [
       "[<matplotlib.lines.Line2D at 0x16a9ef05f10>]"
      ]
     },
     "execution_count": 75,
     "metadata": {},
     "output_type": "execute_result"
    },
    {
     "data": {
      "image/png": "[encoded data removed]",
      "text/plain": [
       "<Figure size 360x360 with 1 Axes>"
      ]
     },
     "metadata": {
      "needs_background": "light"
     },
     "output_type": "display_data"
    }
   ],
   "source": [
    "plt.title('The Elbow Point Graph')\n",
    "plt.xlabel('K')\n",
    "plt.ylabel('sse')\n",
    "plt.plot(k_range,sse)"
   ]
  },
  {
   "cell_type": "raw",
   "id": "66d8886d-a362-4088-81a6-d1d947fac3b3",
   "metadata": {},
   "source": [
    "From the above graph Elbow can be considered as 3"
   ]
  },
  {
   "cell_type": "code",
   "execution_count": 76,
   "id": "c82507f4-af34-4d29-96e8-eaa27b875f66",
   "metadata": {},
   "outputs": [
    {
     "data": {
      "text/plain": [
       "['Age',\n",
       " 'Profession',\n",
       " 'Marrital Status',\n",
       " 'Education',\n",
       " 'No of Dependents',\n",
       " 'Personal loan',\n",
       " 'House Loan',\n",
       " 'Wife Working',\n",
       " 'Salary',\n",
       " 'Wife Salary',\n",
       " 'Total Salary',\n",
       " 'Price']"
      ]
     },
     "execution_count": 76,
     "metadata": {},
     "output_type": "execute_result"
    }
   ],
   "source": [
    "features"
   ]
  },
  {
   "cell_type": "code",
   "execution_count": 77,
   "id": "f45917f1-7c00-4fda-b826-7c22a208001b",
   "metadata": {},
   "outputs": [],
   "source": [
    "# function to plot clusters using different features\n",
    "\n",
    "def plotseg(clus,Y, labels):  \n",
    "  plt.scatter(clus[Y==0,0], clus[Y==0,1], s=10, c='blue', label='Cluster 1')\n",
    "  plt.scatter(clus[Y==1,0], clus[Y==1,1], s=10, c='red', label='Cluster 2')\n",
    "  plt.scatter(clus[Y==2,0], clus[Y==2,1], s=10, c='yellow', label='Cluster 3')\n",
    "\n",
    "  plt.title('Customer_segments')\n",
    "  plt.xlabel(labels[0])\n",
    "  plt.ylabel(labels[1])\n",
    "  plt.show()"
   ]
  },
  {
   "cell_type": "code",
   "execution_count": 78,
   "id": "610decc1-8e7a-44a2-a145-f404b6ca3926",
   "metadata": {},
   "outputs": [
    {
     "data": {
      "image/png": "[encoded data removed]",
      "text/plain": [
       "<Figure size 360x360 with 1 Axes>"
      ]
     },
     "metadata": {
      "needs_background": "light"
     },
     "output_type": "display_data"
    }
   ],
   "source": [
    "clus = d.loc[:,[\"No of Dependents\",\"Price\"]].values\n",
    "kmeans = KMeans(n_clusters=3, init='k-means++')\n",
    "Y = kmeans.fit_predict(clus)\n",
    "plotseg(clus, Y, [\"No of Dependents\",\"Price\"])"
   ]
  },
  {
   "cell_type": "code",
   "execution_count": 79,
   "id": "2339f73e-411c-4828-9bd9-4e79b2d14d09",
   "metadata": {},
   "outputs": [
    {
     "data": {
      "image/png": "[encoded data removed]",
      "text/plain": [
       "<Figure size 360x360 with 1 Axes>"
      ]
     },
     "metadata": {
      "needs_background": "light"
     },
     "output_type": "display_data"
    }
   ],
   "source": [
    "clus = d.loc[:,[\"Age\",\"Price\"]].values\n",
    "kmeans = KMeans(n_clusters=3, init='k-means++')\n",
    "Y = kmeans.fit_predict(clus)\n",
    "plotseg(clus, Y, [\"Age\",\"Price\"])"
   ]
  },
  {
   "cell_type": "code",
   "execution_count": 80,
   "id": "0d85f642-e7c2-4619-be7a-d84e64e7880b",
   "metadata": {},
   "outputs": [
    {
     "data": {
      "image/png": "[encoded data removed]",
      "text/plain": [
       "<Figure size 360x360 with 1 Axes>"
      ]
     },
     "metadata": {
      "needs_background": "light"
     },
     "output_type": "display_data"
    }
   ],
   "source": [
    "clus = d.loc[:,[\"Profession\",\"Price\"]].values\n",
    "kmeans = KMeans(n_clusters=3, init='k-means++')\n",
    "Y = kmeans.fit_predict(clus)\n",
    "plotseg(clus, Y, [\"Profession\",\"Price\"])"
   ]
  },
  {
   "cell_type": "code",
   "execution_count": 81,
   "id": "32b3c23c-5d33-4d42-82fe-1a1a69e22c41",
   "metadata": {},
   "outputs": [
    {
     "data": {
      "image/png": "[encoded data removed]",
      "text/plain": [
       "<Figure size 360x360 with 1 Axes>"
      ]
     },
     "metadata": {
      "needs_background": "light"
     },
     "output_type": "display_data"
    }
   ],
   "source": [
    "clus = d.loc[:,[\"Education\",\"Price\"]].values\n",
    "kmeans = KMeans(n_clusters=3, init='k-means++')\n",
    "Y = kmeans.fit_predict(clus)\n",
    "plotseg(clus, Y, [\"Education\",\"Price\"])"
   ]
  },
  {
   "cell_type": "code",
   "execution_count": 82,
   "id": "2668d38a-2c9e-49de-9319-4378cf08cd90",
   "metadata": {},
   "outputs": [
    {
     "data": {
      "image/png": "[encoded data removed]",
      "text/plain": [
       "<Figure size 360x360 with 1 Axes>"
      ]
     },
     "metadata": {
      "needs_background": "light"
     },
     "output_type": "display_data"
    }
   ],
   "source": [
    "clus = d.loc[:,[\"Marrital Status\",\"Price\"]].values\n",
    "kmeans = KMeans(n_clusters=3, init='k-means++')\n",
    "Y = kmeans.fit_predict(clus)\n",
    "plotseg(clus, Y, [\"Marrital Status\",\"Price\"])"
   ]
  },
  {
   "cell_type": "code",
   "execution_count": 83,
   "id": "f87a31ab-028c-4032-8b8d-f183f2253925",
   "metadata": {},
   "outputs": [
    {
     "data": {
      "image/png": "[encoded data removed]",
      "text/plain": [
       "<Figure size 360x360 with 1 Axes>"
      ]
     },
     "metadata": {
      "needs_background": "light"
     },
     "output_type": "display_data"
    }
   ],
   "source": [
    "clus = d.loc[:,[\"Personal loan\",\"Price\"]].values\n",
    "kmeans = KMeans(n_clusters=3, init='k-means++')\n",
    "Y = kmeans.fit_predict(clus)\n",
    "plotseg(clus, Y, [\"Personal loan\",\"Price\"])"
   ]
  },
  {
   "cell_type": "code",
   "execution_count": 84,
   "id": "09fe4223-d37d-4942-b2bb-124b97331ba6",
   "metadata": {},
   "outputs": [
    {
     "data": {
      "image/png": "[encoded data removed]",
      "text/plain": [
       "<Figure size 360x360 with 1 Axes>"
      ]
     },
     "metadata": {
      "needs_background": "light"
     },
     "output_type": "display_data"
    }
   ],
   "source": [
    "clus = d.loc[:,[\"Wife Working\",\"Price\"]].values\n",
    "kmeans = KMeans(n_clusters=3, init='k-means++')\n",
    "Y = kmeans.fit_predict(clus)\n",
    "plotseg(clus, Y, [\"Wife Working\",\"Price\"])"
   ]
  },
  {
   "cell_type": "code",
   "execution_count": 85,
   "id": "dda43fb1-f2d2-4a02-b131-1402e3e0d4be",
   "metadata": {},
   "outputs": [
    {
     "data": {
      "image/png": "[encoded data removed]",
      "text/plain": [
       "<Figure size 360x360 with 1 Axes>"
      ]
     },
     "metadata": {
      "needs_background": "light"
     },
     "output_type": "display_data"
    }
   ],
   "source": [
    "clus = d.loc[:,[\"Salary\",\"Price\"]].values\n",
    "kmeans = KMeans(n_clusters=3, init='k-means++')\n",
    "Y = kmeans.fit_predict(clus)\n",
    "plotseg(clus, Y, [\"Salary\",\"Price\"])"
   ]
  },
  {
   "cell_type": "code",
   "execution_count": 86,
   "id": "9a14683d-079f-4371-a51f-92faada533d9",
   "metadata": {},
   "outputs": [
    {
     "data": {
      "image/png": "[encoded data removed]",
      "text/plain": [
       "<Figure size 360x360 with 1 Axes>"
      ]
     },
     "metadata": {
      "needs_background": "light"
     },
     "output_type": "display_data"
    }
   ],
   "source": [
    "clus = d.loc[:,[\"House Loan\",\"Price\"]].values\n",
    "kmeans = KMeans(n_clusters=3, init='k-means++')\n",
    "Y = kmeans.fit_predict(clus)\n",
    "plotseg(clus, Y, [\"House Loan\",\"Price\"])"
   ]
  },
  {
   "cell_type": "code",
   "execution_count": 87,
   "id": "9184d90d-c7fc-40d3-91c4-ccd03a9d4c37",
   "metadata": {},
   "outputs": [
    {
     "data": {
      "image/png": "[encoded data removed]",
      "text/plain": [
       "<Figure size 360x360 with 1 Axes>"
      ]
     },
     "metadata": {
      "needs_background": "light"
     },
     "output_type": "display_data"
    }
   ],
   "source": [
    "clus = d.loc[:,[\"Wife Salary\",\"Price\"]].values\n",
    "kmeans = KMeans(n_clusters=3, init='k-means++')\n",
    "Y = kmeans.fit_predict(clus)\n",
    "plotseg(clus, Y, [\"Wife Salary\",\"Price\"])"
   ]
  },
  {
   "cell_type": "code",
   "execution_count": 88,
   "id": "00a4df6f-afbf-4cfa-9634-94f6d20d9a2f",
   "metadata": {},
   "outputs": [
    {
     "data": {
      "text/plain": [
       "array([1, 2, 0, 0, 2, 0, 0, 0, 0, 0, 0, 0, 1, 2, 0, 0, 1, 1, 2, 1, 0, 0,\n",
       "       0, 0, 0, 2, 0, 0, 0, 2, 0, 0, 0, 0, 0, 0, 1, 1, 1, 1, 0, 1, 1, 0,\n",
       "       2, 0, 0, 2, 2, 0, 0, 0, 0, 0, 2, 0, 0, 1, 1, 1, 1, 1, 1, 0, 2, 0,\n",
       "       2, 2, 2, 0, 2, 2, 2, 1, 1, 2, 2, 0, 0, 2, 0, 2, 0, 2, 0, 0, 1, 2,\n",
       "       2, 0, 2, 0, 2, 1, 1, 0, 2, 2, 2])"
      ]
     },
     "execution_count": 88,
     "metadata": {},
     "output_type": "execute_result"
    }
   ],
   "source": [
    "labels = clustering_kmeans.labels_\n",
    "labels"
   ]
  },
  {
   "cell_type": "raw",
   "id": "67d26caa-3717-4e27-8799-b29861ccb854",
   "metadata": {},
   "source": [
    "3rd dimensional visualization - Age, Total Salary, Price"
   ]
  },
  {
   "cell_type": "code",
   "execution_count": 89,
   "id": "30df7c77-19cf-4f6d-8c73-f0e6c7543779",
   "metadata": {},
   "outputs": [
    {
     "data": {
      "image/png": "[encoded data removed]",
      "text/plain": [
       "<Figure size 1440x720 with 1 Axes>"
      ]
     },
     "metadata": {
      "needs_background": "light"
     },
     "output_type": "display_data"
    }
   ],
   "source": [
    "fig = plt.figure(figsize=(20,10))\n",
    "\n",
    "ax = fig.add_subplot(111, projection='3d')\n",
    "ax.scatter(d.Age[labels == 0], d[\"Salary\"][labels == 0], d[\"Price\"][labels == 0],  c='blue', s=60)\n",
    "ax.scatter(d.Age[labels == 1], d[\"Salary\"][labels == 1], d[\"Price\"][labels == 1],  c='red', s=60)\n",
    "ax.scatter(d.Age[labels == 2], d[\"Salary\"][labels == 2], d[\"Price\"][labels == 2],  c='green', s=60)\n",
    "ax.view_init(30, 185)\n",
    "\n",
    "plt.xlabel(\"Age\")\n",
    "plt.ylabel(\"Total Salary\")\n",
    "ax.set_zlabel('Price')\n",
    "plt.show()"
   ]
  },
  {
   "cell_type": "raw",
   "id": "793bcabd-8498-4880-ba71-df96a98a47de",
   "metadata": {},
   "source": [
    "3rd Dimensional Visualization - PRICE, NO OF DEPENDENTS, TOTAL SALARY"
   ]
  },
  {
   "cell_type": "code",
   "execution_count": 90,
   "id": "02f5ec67-a8b3-46de-8fe6-8c73d2b507cd",
   "metadata": {},
   "outputs": [
    {
     "data": {
      "image/png": "[encoded data removed]",
      "text/plain": [
       "<Figure size 1440x720 with 1 Axes>"
      ]
     },
     "metadata": {
      "needs_background": "light"
     },
     "output_type": "display_data"
    }
   ],
   "source": [
    "fig = plt.figure(figsize=(20,10))\n",
    "\n",
    "ax = fig.add_subplot(111, projection='3d')\n",
    "ax.scatter(d.Price[labels == 0], d[\"Total Salary\"][labels == 0], d[\"No of Dependents\"][labels == 0],  c='blue', s=60)\n",
    "ax.scatter(d.Price[labels == 1], d[\"Total Salary\"][labels == 1], d[\"No of Dependents\"][labels == 1],  c='red', s=60)\n",
    "ax.scatter(d.Price[labels == 2], d[\"Total Salary\"][labels == 2], d[\"No of Dependents\"][labels == 2],  c='green', s=60)\n",
    "ax.view_init(30, 185)\n",
    "\n",
    "plt.xlabel(\"Price\")\n",
    "plt.ylabel(\"Total Salary\")\n",
    "ax.set_zlabel('No. of Dependents')\n",
    "plt.show()"
   ]
  },
  {
   "cell_type": "markdown",
   "id": "614dcb99-3b5b-40d7-840b-a56434e6524f",
   "metadata": {},
   "source": [
    "## Observations:"
   ]
  },
  {
   "cell_type": "raw",
   "id": "78a56434-2074-46c2-b585-4b50bfbf2c00",
   "metadata": {},
   "source": [
    "-- We found that 3 clusters groups can be formed from the data given(based on price of the vehicle) using the K-Means algorithm and Elbow Point Method\n",
    "-- While looking at the patterns, we find that as the Age increases the cost of the vehicle also    rises.\n",
    "-- Also, amount spent on the car goes up with the number of dependents. The same is true for salary field too.\n",
    "-- The visualizations provided gives a clear idea about the patterns."
   ]
  },
  {
   "cell_type": "markdown",
   "id": "672d0142-e4af-425e-a7dd-2f86f84eae52",
   "metadata": {},
   "source": [
    "## Clustering According to the type and model of the vehicle owned"
   ]
  },
  {
   "cell_type": "code",
   "execution_count": 91,
   "id": "fd3c930d-5cc6-4fa6-8622-52f96011bae3",
   "metadata": {},
   "outputs": [
    {
     "data": {
      "text/plain": [
       "['Age',\n",
       " 'Profession',\n",
       " 'Marrital Status',\n",
       " 'Education',\n",
       " 'No of Dependents',\n",
       " 'Personal loan',\n",
       " 'House Loan',\n",
       " 'Wife Working',\n",
       " 'Salary',\n",
       " 'Wife Salary',\n",
       " 'Total Salary',\n",
       " 'Make']"
      ]
     },
     "execution_count": 91,
     "metadata": {},
     "output_type": "execute_result"
    }
   ],
   "source": [
    "feature1 = list(data_car.columns)\n",
    "feature1"
   ]
  },
  {
   "cell_type": "code",
   "execution_count": 92,
   "id": "d75a61b1-5455-438d-a8b5-dd08777fbe19",
   "metadata": {},
   "outputs": [
    {
     "data": {
      "text/html": [
       "<div>\n",
       "<style scoped>\n",
       "    .dataframe tbody tr th:only-of-type {\n",
       "        vertical-align: middle;\n",
       "    }\n",
       "\n",
       "    .dataframe tbody tr th {\n",
       "        vertical-align: top;\n",
       "    }\n",
       "\n",
       "    .dataframe thead th {\n",
       "        text-align: right;\n",
       "    }\n",
       "</style>\n",
       "<table border=\"1\" class=\"dataframe\">\n",
       "  <thead>\n",
       "    <tr style=\"text-align: right;\">\n",
       "      <th></th>\n",
       "      <th>Age</th>\n",
       "      <th>Profession</th>\n",
       "      <th>Marrital Status</th>\n",
       "      <th>Education</th>\n",
       "      <th>No of Dependents</th>\n",
       "      <th>Personal loan</th>\n",
       "      <th>House Loan</th>\n",
       "      <th>Wife Working</th>\n",
       "      <th>Salary</th>\n",
       "      <th>Wife Salary</th>\n",
       "      <th>Total Salary</th>\n",
       "      <th>Make</th>\n",
       "    </tr>\n",
       "  </thead>\n",
       "  <tbody>\n",
       "    <tr>\n",
       "      <th>0</th>\n",
       "      <td>27</td>\n",
       "      <td>1</td>\n",
       "      <td>1</td>\n",
       "      <td>1</td>\n",
       "      <td>0</td>\n",
       "      <td>1</td>\n",
       "      <td>0</td>\n",
       "      <td>0</td>\n",
       "      <td>800000</td>\n",
       "      <td>0</td>\n",
       "      <td>800000</td>\n",
       "      <td>8</td>\n",
       "    </tr>\n",
       "    <tr>\n",
       "      <th>1</th>\n",
       "      <td>35</td>\n",
       "      <td>1</td>\n",
       "      <td>0</td>\n",
       "      <td>1</td>\n",
       "      <td>2</td>\n",
       "      <td>1</td>\n",
       "      <td>1</td>\n",
       "      <td>1</td>\n",
       "      <td>1400000</td>\n",
       "      <td>600000</td>\n",
       "      <td>2000000</td>\n",
       "      <td>1</td>\n",
       "    </tr>\n",
       "    <tr>\n",
       "      <th>2</th>\n",
       "      <td>45</td>\n",
       "      <td>0</td>\n",
       "      <td>0</td>\n",
       "      <td>0</td>\n",
       "      <td>4</td>\n",
       "      <td>1</td>\n",
       "      <td>1</td>\n",
       "      <td>0</td>\n",
       "      <td>1800000</td>\n",
       "      <td>0</td>\n",
       "      <td>1800000</td>\n",
       "      <td>4</td>\n",
       "    </tr>\n",
       "    <tr>\n",
       "      <th>3</th>\n",
       "      <td>41</td>\n",
       "      <td>0</td>\n",
       "      <td>0</td>\n",
       "      <td>1</td>\n",
       "      <td>3</td>\n",
       "      <td>0</td>\n",
       "      <td>0</td>\n",
       "      <td>1</td>\n",
       "      <td>1600000</td>\n",
       "      <td>600000</td>\n",
       "      <td>2200000</td>\n",
       "      <td>2</td>\n",
       "    </tr>\n",
       "    <tr>\n",
       "      <th>4</th>\n",
       "      <td>31</td>\n",
       "      <td>1</td>\n",
       "      <td>0</td>\n",
       "      <td>1</td>\n",
       "      <td>2</td>\n",
       "      <td>1</td>\n",
       "      <td>0</td>\n",
       "      <td>1</td>\n",
       "      <td>1800000</td>\n",
       "      <td>800000</td>\n",
       "      <td>2600000</td>\n",
       "      <td>6</td>\n",
       "    </tr>\n",
       "  </tbody>\n",
       "</table>\n",
       "</div>"
      ],
      "text/plain": [
       "   Age  Profession  Marrital Status  Education  No of Dependents  \\\n",
       "0   27           1                1          1                 0   \n",
       "1   35           1                0          1                 2   \n",
       "2   45           0                0          0                 4   \n",
       "3   41           0                0          1                 3   \n",
       "4   31           1                0          1                 2   \n",
       "\n",
       "   Personal loan  House Loan  Wife Working   Salary  Wife Salary  \\\n",
       "0              1           0             0   800000            0   \n",
       "1              1           1             1  1400000       600000   \n",
       "2              1           1             0  1800000            0   \n",
       "3              0           0             1  1600000       600000   \n",
       "4              1           0             1  1800000       800000   \n",
       "\n",
       "   Total Salary  Make  \n",
       "0        800000     8  \n",
       "1       2000000     1  \n",
       "2       1800000     4  \n",
       "3       2200000     2  \n",
       "4       2600000     6  "
      ]
     },
     "execution_count": 92,
     "metadata": {},
     "output_type": "execute_result"
    }
   ],
   "source": [
    "dc = data_car[feature1]\n",
    "dc.head()"
   ]
  },
  {
   "cell_type": "code",
   "execution_count": 93,
   "id": "2e4ebfe2-5e3b-4714-a25f-1034897f3539",
   "metadata": {},
   "outputs": [],
   "source": [
    "x = dc['Salary'].values.reshape(-1, 1)\n",
    "x_scaled = scaler.fit_transform(x)\n",
    "dc['Salary']= x_scaled\n",
    "\n",
    "\n",
    "x = dc['Age'].values.reshape(-1, 1)\n",
    "scaler = MinMaxScaler()\n",
    "x_scaled = scaler.fit_transform(x)\n",
    "dc['Age']= x_scaled\n",
    "\n",
    "\n",
    "x = dc['Wife Salary'].values.reshape(-1, 1)\n",
    "x_scaled = scaler.fit_transform(x)\n",
    "dc['Wife Salary']= x_scaled\n",
    "\n",
    "\n",
    "x = dc['Total Salary'].values.reshape(-1, 1)\n",
    "x_scaled = scaler.fit_transform(x)\n",
    "dc['Total Salary']= x_scaled"
   ]
  },
  {
   "cell_type": "code",
   "execution_count": 94,
   "id": "eb442eae-bfb6-4db7-8050-33dff361d55d",
   "metadata": {},
   "outputs": [
    {
     "data": {
      "text/html": [
       "<div>\n",
       "<style scoped>\n",
       "    .dataframe tbody tr th:only-of-type {\n",
       "        vertical-align: middle;\n",
       "    }\n",
       "\n",
       "    .dataframe tbody tr th {\n",
       "        vertical-align: top;\n",
       "    }\n",
       "\n",
       "    .dataframe thead th {\n",
       "        text-align: right;\n",
       "    }\n",
       "</style>\n",
       "<table border=\"1\" class=\"dataframe\">\n",
       "  <thead>\n",
       "    <tr style=\"text-align: right;\">\n",
       "      <th></th>\n",
       "      <th>Age</th>\n",
       "      <th>Profession</th>\n",
       "      <th>Marrital Status</th>\n",
       "      <th>Education</th>\n",
       "      <th>No of Dependents</th>\n",
       "      <th>Personal loan</th>\n",
       "      <th>House Loan</th>\n",
       "      <th>Wife Working</th>\n",
       "      <th>Salary</th>\n",
       "      <th>Wife Salary</th>\n",
       "      <th>Total Salary</th>\n",
       "      <th>Make</th>\n",
       "    </tr>\n",
       "  </thead>\n",
       "  <tbody>\n",
       "    <tr>\n",
       "      <th>0</th>\n",
       "      <td>0.04</td>\n",
       "      <td>1</td>\n",
       "      <td>1</td>\n",
       "      <td>1</td>\n",
       "      <td>0</td>\n",
       "      <td>1</td>\n",
       "      <td>0</td>\n",
       "      <td>0</td>\n",
       "      <td>0.166667</td>\n",
       "      <td>0.000000</td>\n",
       "      <td>0.12</td>\n",
       "      <td>8</td>\n",
       "    </tr>\n",
       "    <tr>\n",
       "      <th>1</th>\n",
       "      <td>0.36</td>\n",
       "      <td>1</td>\n",
       "      <td>0</td>\n",
       "      <td>1</td>\n",
       "      <td>2</td>\n",
       "      <td>1</td>\n",
       "      <td>1</td>\n",
       "      <td>1</td>\n",
       "      <td>0.333333</td>\n",
       "      <td>0.285714</td>\n",
       "      <td>0.36</td>\n",
       "      <td>1</td>\n",
       "    </tr>\n",
       "    <tr>\n",
       "      <th>2</th>\n",
       "      <td>0.76</td>\n",
       "      <td>0</td>\n",
       "      <td>0</td>\n",
       "      <td>0</td>\n",
       "      <td>4</td>\n",
       "      <td>1</td>\n",
       "      <td>1</td>\n",
       "      <td>0</td>\n",
       "      <td>0.444444</td>\n",
       "      <td>0.000000</td>\n",
       "      <td>0.32</td>\n",
       "      <td>4</td>\n",
       "    </tr>\n",
       "    <tr>\n",
       "      <th>3</th>\n",
       "      <td>0.60</td>\n",
       "      <td>0</td>\n",
       "      <td>0</td>\n",
       "      <td>1</td>\n",
       "      <td>3</td>\n",
       "      <td>0</td>\n",
       "      <td>0</td>\n",
       "      <td>1</td>\n",
       "      <td>0.388889</td>\n",
       "      <td>0.285714</td>\n",
       "      <td>0.40</td>\n",
       "      <td>2</td>\n",
       "    </tr>\n",
       "    <tr>\n",
       "      <th>4</th>\n",
       "      <td>0.20</td>\n",
       "      <td>1</td>\n",
       "      <td>0</td>\n",
       "      <td>1</td>\n",
       "      <td>2</td>\n",
       "      <td>1</td>\n",
       "      <td>0</td>\n",
       "      <td>1</td>\n",
       "      <td>0.444444</td>\n",
       "      <td>0.380952</td>\n",
       "      <td>0.48</td>\n",
       "      <td>6</td>\n",
       "    </tr>\n",
       "  </tbody>\n",
       "</table>\n",
       "</div>"
      ],
      "text/plain": [
       "    Age  Profession  Marrital Status  Education  No of Dependents  \\\n",
       "0  0.04           1                1          1                 0   \n",
       "1  0.36           1                0          1                 2   \n",
       "2  0.76           0                0          0                 4   \n",
       "3  0.60           0                0          1                 3   \n",
       "4  0.20           1                0          1                 2   \n",
       "\n",
       "   Personal loan  House Loan  Wife Working    Salary  Wife Salary  \\\n",
       "0              1           0             0  0.166667     0.000000   \n",
       "1              1           1             1  0.333333     0.285714   \n",
       "2              1           1             0  0.444444     0.000000   \n",
       "3              0           0             1  0.388889     0.285714   \n",
       "4              1           0             1  0.444444     0.380952   \n",
       "\n",
       "   Total Salary  Make  \n",
       "0          0.12     8  \n",
       "1          0.36     1  \n",
       "2          0.32     4  \n",
       "3          0.40     2  \n",
       "4          0.48     6  "
      ]
     },
     "execution_count": 94,
     "metadata": {},
     "output_type": "execute_result"
    }
   ],
   "source": [
    "dc.head()"
   ]
  },
  {
   "cell_type": "code",
   "execution_count": 95,
   "id": "60f42a32-a95a-4fef-858f-8fb01521123d",
   "metadata": {},
   "outputs": [],
   "source": [
    "k_range1 = range(1,10)\n",
    "#sum of squared error\n",
    "ssec = []\n",
    "for k in k_range:\n",
    "  km = KMeans(n_clusters=k)\n",
    "  km.fit(dc)\n",
    "  ssec.append(km.inertia_)"
   ]
  },
  {
   "cell_type": "code",
   "execution_count": 96,
   "id": "1a5524e7-1d1c-4341-afcf-065095cf5782",
   "metadata": {},
   "outputs": [
    {
     "data": {
      "text/plain": [
       "[1076.5680399367827,\n",
       " 480.4043865992121,\n",
       " 375.1105031533179,\n",
       " 288.1278894579031,\n",
       " 237.25907368379737,\n",
       " 202.73577880733686,\n",
       " 189.85028993525182,\n",
       " 180.5851750292941,\n",
       " 164.50660886671267]"
      ]
     },
     "execution_count": 96,
     "metadata": {},
     "output_type": "execute_result"
    }
   ],
   "source": [
    "ssec"
   ]
  },
  {
   "cell_type": "code",
   "execution_count": 97,
   "id": "a5d3e294-8119-40c6-bbae-85f90d4a3bfc",
   "metadata": {},
   "outputs": [
    {
     "data": {
      "image/png": "[encoded data removed]",
      "text/plain": [
       "<Figure size 360x360 with 1 Axes>"
      ]
     },
     "metadata": {
      "needs_background": "light"
     },
     "output_type": "display_data"
    }
   ],
   "source": [
    "plt.title('The Elbow Point Graph')\n",
    "plt.xlabel('K')\n",
    "plt.ylabel('sse')\n",
    "plt.plot(k_range1,ssec)\n",
    "plt.show()"
   ]
  },
  {
   "cell_type": "raw",
   "id": "65c52a58-2376-4b24-aeb7-aa08490d86a8",
   "metadata": {},
   "source": [
    "From the above graph, we can consider Elbow as 2"
   ]
  },
  {
   "cell_type": "code",
   "execution_count": 98,
   "id": "4f661c22-1f66-4946-80a0-606f83e257db",
   "metadata": {},
   "outputs": [
    {
     "data": {
      "text/html": [
       "<div>\n",
       "<style scoped>\n",
       "    .dataframe tbody tr th:only-of-type {\n",
       "        vertical-align: middle;\n",
       "    }\n",
       "\n",
       "    .dataframe tbody tr th {\n",
       "        vertical-align: top;\n",
       "    }\n",
       "\n",
       "    .dataframe thead th {\n",
       "        text-align: right;\n",
       "    }\n",
       "</style>\n",
       "<table border=\"1\" class=\"dataframe\">\n",
       "  <thead>\n",
       "    <tr style=\"text-align: right;\">\n",
       "      <th></th>\n",
       "      <th>Age</th>\n",
       "      <th>Profession</th>\n",
       "      <th>Marrital Status</th>\n",
       "      <th>Education</th>\n",
       "      <th>No of Dependents</th>\n",
       "      <th>Personal loan</th>\n",
       "      <th>House Loan</th>\n",
       "      <th>Wife Working</th>\n",
       "      <th>Salary</th>\n",
       "      <th>Wife Salary</th>\n",
       "      <th>Total Salary</th>\n",
       "      <th>Make</th>\n",
       "      <th>clusters</th>\n",
       "    </tr>\n",
       "  </thead>\n",
       "  <tbody>\n",
       "    <tr>\n",
       "      <th>0</th>\n",
       "      <td>0.04</td>\n",
       "      <td>1</td>\n",
       "      <td>1</td>\n",
       "      <td>1</td>\n",
       "      <td>0</td>\n",
       "      <td>1</td>\n",
       "      <td>0</td>\n",
       "      <td>0</td>\n",
       "      <td>0.166667</td>\n",
       "      <td>0.000000</td>\n",
       "      <td>0.12</td>\n",
       "      <td>8</td>\n",
       "      <td>1</td>\n",
       "    </tr>\n",
       "    <tr>\n",
       "      <th>1</th>\n",
       "      <td>0.36</td>\n",
       "      <td>1</td>\n",
       "      <td>0</td>\n",
       "      <td>1</td>\n",
       "      <td>2</td>\n",
       "      <td>1</td>\n",
       "      <td>1</td>\n",
       "      <td>1</td>\n",
       "      <td>0.333333</td>\n",
       "      <td>0.285714</td>\n",
       "      <td>0.36</td>\n",
       "      <td>1</td>\n",
       "      <td>0</td>\n",
       "    </tr>\n",
       "    <tr>\n",
       "      <th>2</th>\n",
       "      <td>0.76</td>\n",
       "      <td>0</td>\n",
       "      <td>0</td>\n",
       "      <td>0</td>\n",
       "      <td>4</td>\n",
       "      <td>1</td>\n",
       "      <td>1</td>\n",
       "      <td>0</td>\n",
       "      <td>0.444444</td>\n",
       "      <td>0.000000</td>\n",
       "      <td>0.32</td>\n",
       "      <td>4</td>\n",
       "      <td>1</td>\n",
       "    </tr>\n",
       "    <tr>\n",
       "      <th>3</th>\n",
       "      <td>0.60</td>\n",
       "      <td>0</td>\n",
       "      <td>0</td>\n",
       "      <td>1</td>\n",
       "      <td>3</td>\n",
       "      <td>0</td>\n",
       "      <td>0</td>\n",
       "      <td>1</td>\n",
       "      <td>0.388889</td>\n",
       "      <td>0.285714</td>\n",
       "      <td>0.40</td>\n",
       "      <td>2</td>\n",
       "      <td>0</td>\n",
       "    </tr>\n",
       "    <tr>\n",
       "      <th>4</th>\n",
       "      <td>0.20</td>\n",
       "      <td>1</td>\n",
       "      <td>0</td>\n",
       "      <td>1</td>\n",
       "      <td>2</td>\n",
       "      <td>1</td>\n",
       "      <td>0</td>\n",
       "      <td>1</td>\n",
       "      <td>0.444444</td>\n",
       "      <td>0.380952</td>\n",
       "      <td>0.48</td>\n",
       "      <td>6</td>\n",
       "      <td>1</td>\n",
       "    </tr>\n",
       "    <tr>\n",
       "      <th>...</th>\n",
       "      <td>...</td>\n",
       "      <td>...</td>\n",
       "      <td>...</td>\n",
       "      <td>...</td>\n",
       "      <td>...</td>\n",
       "      <td>...</td>\n",
       "      <td>...</td>\n",
       "      <td>...</td>\n",
       "      <td>...</td>\n",
       "      <td>...</td>\n",
       "      <td>...</td>\n",
       "      <td>...</td>\n",
       "      <td>...</td>\n",
       "    </tr>\n",
       "    <tr>\n",
       "      <th>94</th>\n",
       "      <td>0.04</td>\n",
       "      <td>0</td>\n",
       "      <td>1</td>\n",
       "      <td>0</td>\n",
       "      <td>0</td>\n",
       "      <td>0</td>\n",
       "      <td>0</td>\n",
       "      <td>0</td>\n",
       "      <td>0.611111</td>\n",
       "      <td>0.000000</td>\n",
       "      <td>0.44</td>\n",
       "      <td>6</td>\n",
       "      <td>1</td>\n",
       "    </tr>\n",
       "    <tr>\n",
       "      <th>95</th>\n",
       "      <td>0.96</td>\n",
       "      <td>1</td>\n",
       "      <td>0</td>\n",
       "      <td>1</td>\n",
       "      <td>3</td>\n",
       "      <td>0</td>\n",
       "      <td>0</td>\n",
       "      <td>1</td>\n",
       "      <td>1.000000</td>\n",
       "      <td>0.619048</td>\n",
       "      <td>0.98</td>\n",
       "      <td>6</td>\n",
       "      <td>1</td>\n",
       "    </tr>\n",
       "    <tr>\n",
       "      <th>96</th>\n",
       "      <td>1.00</td>\n",
       "      <td>0</td>\n",
       "      <td>0</td>\n",
       "      <td>0</td>\n",
       "      <td>2</td>\n",
       "      <td>1</td>\n",
       "      <td>1</td>\n",
       "      <td>0</td>\n",
       "      <td>0.555556</td>\n",
       "      <td>0.000000</td>\n",
       "      <td>0.40</td>\n",
       "      <td>1</td>\n",
       "      <td>0</td>\n",
       "    </tr>\n",
       "    <tr>\n",
       "      <th>97</th>\n",
       "      <td>1.00</td>\n",
       "      <td>1</td>\n",
       "      <td>0</td>\n",
       "      <td>1</td>\n",
       "      <td>2</td>\n",
       "      <td>0</td>\n",
       "      <td>0</td>\n",
       "      <td>1</td>\n",
       "      <td>0.694444</td>\n",
       "      <td>0.619048</td>\n",
       "      <td>0.76</td>\n",
       "      <td>3</td>\n",
       "      <td>0</td>\n",
       "    </tr>\n",
       "    <tr>\n",
       "      <th>98</th>\n",
       "      <td>1.00</td>\n",
       "      <td>1</td>\n",
       "      <td>0</td>\n",
       "      <td>1</td>\n",
       "      <td>2</td>\n",
       "      <td>1</td>\n",
       "      <td>1</td>\n",
       "      <td>0</td>\n",
       "      <td>0.555556</td>\n",
       "      <td>0.000000</td>\n",
       "      <td>0.40</td>\n",
       "      <td>1</td>\n",
       "      <td>0</td>\n",
       "    </tr>\n",
       "  </tbody>\n",
       "</table>\n",
       "<p>99 rows × 13 columns</p>\n",
       "</div>"
      ],
      "text/plain": [
       "     Age  Profession  Marrital Status  Education  No of Dependents  \\\n",
       "0   0.04           1                1          1                 0   \n",
       "1   0.36           1                0          1                 2   \n",
       "2   0.76           0                0          0                 4   \n",
       "3   0.60           0                0          1                 3   \n",
       "4   0.20           1                0          1                 2   \n",
       "..   ...         ...              ...        ...               ...   \n",
       "94  0.04           0                1          0                 0   \n",
       "95  0.96           1                0          1                 3   \n",
       "96  1.00           0                0          0                 2   \n",
       "97  1.00           1                0          1                 2   \n",
       "98  1.00           1                0          1                 2   \n",
       "\n",
       "    Personal loan  House Loan  Wife Working    Salary  Wife Salary  \\\n",
       "0               1           0             0  0.166667     0.000000   \n",
       "1               1           1             1  0.333333     0.285714   \n",
       "2               1           1             0  0.444444     0.000000   \n",
       "3               0           0             1  0.388889     0.285714   \n",
       "4               1           0             1  0.444444     0.380952   \n",
       "..            ...         ...           ...       ...          ...   \n",
       "94              0           0             0  0.611111     0.000000   \n",
       "95              0           0             1  1.000000     0.619048   \n",
       "96              1           1             0  0.555556     0.000000   \n",
       "97              0           0             1  0.694444     0.619048   \n",
       "98              1           1             0  0.555556     0.000000   \n",
       "\n",
       "    Total Salary  Make  clusters  \n",
       "0           0.12     8         1  \n",
       "1           0.36     1         0  \n",
       "2           0.32     4         1  \n",
       "3           0.40     2         0  \n",
       "4           0.48     6         1  \n",
       "..           ...   ...       ...  \n",
       "94          0.44     6         1  \n",
       "95          0.98     6         1  \n",
       "96          0.40     1         0  \n",
       "97          0.76     3         0  \n",
       "98          0.40     1         0  \n",
       "\n",
       "[99 rows x 13 columns]"
      ]
     },
     "execution_count": 98,
     "metadata": {},
     "output_type": "execute_result"
    }
   ],
   "source": [
    "clustering_kmeans = KMeans(n_clusters=2)\n",
    "dc['clusters'] = clustering_kmeans.fit_predict(dc) \n",
    "dc"
   ]
  },
  {
   "cell_type": "code",
   "execution_count": 99,
   "id": "e50cd786-1344-4911-92f7-533a92b9bed4",
   "metadata": {},
   "outputs": [],
   "source": [
    "# Function to plot clusters for different features in data_car\n",
    "def plotsegm(clus,Y, labels):  \n",
    "  plt.scatter(clus[Y==0,0], clus[Y==0,1], s=10, c='blue', label='Cluster 1')\n",
    "  plt.scatter(clus[Y==1,0], clus[Y==1,1], s=10, c='red', label='Cluster 2')\n",
    "  \n",
    "\n",
    "  plt.title('Customer_segments')\n",
    "  plt.xlabel(labels[0])\n",
    "  plt.ylabel(labels[1])\n",
    "  plt.show()"
   ]
  },
  {
   "cell_type": "code",
   "execution_count": 100,
   "id": "7c9f2a47-0f37-42e1-9fee-eafc1a09af8b",
   "metadata": {},
   "outputs": [
    {
     "data": {
      "image/png": "[encoded data removed]",
      "text/plain": [
       "<Figure size 360x360 with 1 Axes>"
      ]
     },
     "metadata": {
      "needs_background": "light"
     },
     "output_type": "display_data"
    }
   ],
   "source": [
    "clus = dc.loc[:,[\"Personal loan\",\"Make\"]].values\n",
    "kmeans = KMeans(n_clusters=2, init='k-means++')\n",
    "Y = kmeans.fit_predict(clus)\n",
    "plotsegm(clus, Y, [\"Personal loan\",\"Type of car\"])"
   ]
  },
  {
   "cell_type": "code",
   "execution_count": 101,
   "id": "0562b6d4-fc30-4751-a010-fe0d63148bbc",
   "metadata": {},
   "outputs": [
    {
     "data": {
      "image/png": "[encoded data removed]",
      "text/plain": [
       "<Figure size 360x360 with 1 Axes>"
      ]
     },
     "metadata": {
      "needs_background": "light"
     },
     "output_type": "display_data"
    }
   ],
   "source": [
    "clus = dc.loc[:,[\"Age\",\"Make\"]].values\n",
    "kmeans = KMeans(n_clusters=2, init='k-means++')\n",
    "Y = kmeans.fit_predict(clus)\n",
    "plotsegm(clus, Y, [\"Age\",\"Type of car\"])"
   ]
  },
  {
   "cell_type": "code",
   "execution_count": 102,
   "id": "0a6af054-45c6-42f2-8ffb-f14119aab318",
   "metadata": {},
   "outputs": [
    {
     "data": {
      "image/png": "[encoded data removed]",
      "text/plain": [
       "<Figure size 360x360 with 1 Axes>"
      ]
     },
     "metadata": {
      "needs_background": "light"
     },
     "output_type": "display_data"
    }
   ],
   "source": [
    "clus = dc.loc[:,[\"Education\",\"Make\"]].values\n",
    "kmeans = KMeans(n_clusters=2, init='k-means++')\n",
    "Y = kmeans.fit_predict(clus)\n",
    "plotsegm(clus, Y, [\"Education\",\"Type of car\"])"
   ]
  },
  {
   "cell_type": "code",
   "execution_count": 103,
   "id": "108e8505-5a4b-4aa7-a8d0-057c1702039c",
   "metadata": {},
   "outputs": [
    {
     "data": {
      "image/png": "[encoded data removed]",
      "text/plain": [
       "<Figure size 360x360 with 1 Axes>"
      ]
     },
     "metadata": {
      "needs_background": "light"
     },
     "output_type": "display_data"
    }
   ],
   "source": [
    "clus = dc.loc[:,[\"Salary\",\"Make\"]].values\n",
    "kmeans = KMeans(n_clusters=2, init='k-means++')\n",
    "Y = kmeans.fit_predict(clus)\n",
    "plotsegm(clus, Y, [\"Salary\",\"Type of car\"])"
   ]
  },
  {
   "cell_type": "code",
   "execution_count": 104,
   "id": "5fbc1c9c-7508-4ab1-9f4f-0084deef2c10",
   "metadata": {},
   "outputs": [
    {
     "data": {
      "image/png": "[encoded data removed]",
      "text/plain": [
       "<Figure size 360x360 with 1 Axes>"
      ]
     },
     "metadata": {
      "needs_background": "light"
     },
     "output_type": "display_data"
    }
   ],
   "source": [
    "clus = dc.loc[:,[\"Personal loan\",\"Make\"]].values\n",
    "kmeans = KMeans(n_clusters=2, init='k-means++')\n",
    "Y = kmeans.fit_predict(clus)\n",
    "plotsegm(clus, Y, [\"Personal loan\",\"Type of car\"])"
   ]
  },
  {
   "cell_type": "code",
   "execution_count": 105,
   "id": "f75892d6-3543-48c2-b079-e51744fab3bc",
   "metadata": {},
   "outputs": [
    {
     "data": {
      "image/png": "[encoded data removed]",
      "text/plain": [
       "<Figure size 360x360 with 1 Axes>"
      ]
     },
     "metadata": {
      "needs_background": "light"
     },
     "output_type": "display_data"
    }
   ],
   "source": [
    "clus = dc.loc[:,[\"House Loan\",\"Make\"]].values\n",
    "kmeans = KMeans(n_clusters=2, init='k-means++')\n",
    "Y = kmeans.fit_predict(clus)\n",
    "plotsegm(clus, Y, [\"House Loan\",\"Type of car\"])"
   ]
  },
  {
   "cell_type": "code",
   "execution_count": 106,
   "id": "4058b5d8-fef4-4b93-a4d2-c582aa5fc8b9",
   "metadata": {},
   "outputs": [
    {
     "data": {
      "image/png": "[encoded data removed]",
      "text/plain": [
       "<Figure size 360x360 with 1 Axes>"
      ]
     },
     "metadata": {
      "needs_background": "light"
     },
     "output_type": "display_data"
    }
   ],
   "source": [
    "clus = dc.loc[:,[\"Total Salary\",\"Make\"]].values\n",
    "kmeans = KMeans(n_clusters=2, init='k-means++')\n",
    "Y = kmeans.fit_predict(clus)\n",
    "plotsegm(clus, Y, [\"Total Salary\",\"Type of car\"])"
   ]
  },
  {
   "cell_type": "code",
   "execution_count": 107,
   "id": "c4e33046-36ba-4de8-a363-b6497f5d0d8d",
   "metadata": {},
   "outputs": [
    {
     "data": {
      "image/png": "[encoded data removed]",
      "text/plain": [
       "<Figure size 360x360 with 1 Axes>"
      ]
     },
     "metadata": {
      "needs_background": "light"
     },
     "output_type": "display_data"
    }
   ],
   "source": [
    "clus = dc.loc[:,[\"Wife Salary\",\"Make\"]].values\n",
    "kmeans = KMeans(n_clusters=2, init='k-means++')\n",
    "Y = kmeans.fit_predict(clus)\n",
    "plotsegm(clus, Y, [\"Wife Salary\",\"Type of car\"])"
   ]
  },
  {
   "cell_type": "code",
   "execution_count": 108,
   "id": "9dbecef0-f2b7-49b0-be07-ef8ffbd28041",
   "metadata": {},
   "outputs": [],
   "source": [
    "# 3rd Dimensional Visualization - Age, Salary and Make"
   ]
  },
  {
   "cell_type": "code",
   "execution_count": 109,
   "id": "cf465699-e61b-420d-a68b-c38b5694dcb6",
   "metadata": {},
   "outputs": [
    {
     "data": {
      "image/png": "[encoded data removed]",
      "text/plain": [
       "<Figure size 1440x720 with 1 Axes>"
      ]
     },
     "metadata": {
      "needs_background": "light"
     },
     "output_type": "display_data"
    }
   ],
   "source": [
    "fig = plt.figure(figsize=(20,10))\n",
    "\n",
    "ax = fig.add_subplot(111, projection='3d')\n",
    "ax.scatter(dc.Age[labels == 0], dc[\"Salary\"][labels == 0], dc[\"Make\"][labels == 0],  c='blue', s=60)\n",
    "ax.scatter(dc.Age[labels == 1], dc[\"Salary\"][labels == 1], dc[\"Make\"][labels == 1],  c='red', s=60)\n",
    "ax.view_init(30, 185)\n",
    "\n",
    "plt.xlabel(\"Age\")\n",
    "plt.ylabel(\"Salary\")\n",
    "ax.set_zlabel('Make')\n",
    "plt.show()"
   ]
  },
  {
   "cell_type": "code",
   "execution_count": 110,
   "id": "822d5f0f-7b7b-43c6-a68a-ca3f31e611fa",
   "metadata": {},
   "outputs": [
    {
     "data": {
      "text/plain": [
       "0    55\n",
       "1    44\n",
       "Name: clusters, dtype: int64"
      ]
     },
     "execution_count": 110,
     "metadata": {},
     "output_type": "execute_result"
    }
   ],
   "source": [
    "dc['clusters'].value_counts()"
   ]
  },
  {
   "cell_type": "markdown",
   "id": "ae0c94ed-4b3d-4586-b85e-1f0a668e35e9",
   "metadata": {},
   "source": [
    "## Observations"
   ]
  },
  {
   "cell_type": "raw",
   "id": "d542bef1-7166-4633-9fb1-dc076473061b",
   "metadata": {},
   "source": [
    "-- We found that 2 clusters groups can be formed from the data given(based on type of the vehicle) using the K-Means algorithm and Elbow Point Method\n",
    "-- While looking at the patterns, as the age and salary increses, higher model of vehicle os purchased.\n",
    "-- The visualizations provided gives a clear idea about the patterns."
   ]
  },
  {
   "cell_type": "code",
   "execution_count": null,
   "id": "e26202e7-c657-4a90-a782-6ed31605bc8f",
   "metadata": {},
   "outputs": [],
   "source": []
  }
 ],
 "metadata": {
  "kernelspec": {
   "display_name": "Python 3",
   "language": "python",
   "name": "python3"
  },
  "language_info": {
   "codemirror_mode": {
    "name": "ipython",
    "version": 3
   },
   "file_extension": ".py",
   "mimetype": "text/x-python",
   "name": "python",
   "nbconvert_exporter": "python",
   "pygments_lexer": "ipython3",
   "version": "3.8.8"
  }
 },
 "nbformat": 4,
 "nbformat_minor": 5
}
